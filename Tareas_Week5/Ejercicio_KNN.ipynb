{
  "nbformat": 4,
  "nbformat_minor": 0,
  "metadata": {
    "colab": {
      "name": "Ejercicio_KNN.ipynb",
      "provenance": [],
      "authorship_tag": "ABX9TyNfFI6LX7usTJFmyD8Pgyi3",
      "include_colab_link": true
    },
    "kernelspec": {
      "name": "python3",
      "display_name": "Python 3"
    },
    "language_info": {
      "name": "python"
    }
  },
  "cells": [
    {
      "cell_type": "markdown",
      "metadata": {
        "id": "view-in-github",
        "colab_type": "text"
      },
      "source": [
        "<a href=\"https://colab.research.google.com/github/Nicolaser1102/Introduccion_Machine_Learning/blob/main/Tareas_Week5/Ejercicio_KNN.ipynb\" target=\"_parent\"><img src=\"https://colab.research.google.com/assets/colab-badge.svg\" alt=\"Open In Colab\"/></a>"
      ]
    },
    {
      "cell_type": "markdown",
      "source": [
        "# CODING DOJO \n",
        "## Fecha creación: 3/2/2022\n",
        "## Fecha de actualización: 3/2/2022\n",
        "## Esteban Simbaña\n",
        "\n",
        "#Ejercicio KNN\n",
        "\n",
        "\n",
        "\n",
        "\n",
        "\n"
      ],
      "metadata": {
        "id": "Id6ZUNPceYlZ"
      }
    },
    {
      "cell_type": "code",
      "execution_count": 324,
      "metadata": {
        "colab": {
          "base_uri": "https://localhost:8080/"
        },
        "id": "3KEqaOsxkAhX",
        "outputId": "130506c9-cd73-478b-b0b7-adcbaa33f6aa"
      },
      "outputs": [
        {
          "output_type": "stream",
          "name": "stdout",
          "text": [
            "Drive already mounted at /content/drive; to attempt to forcibly remount, call drive.mount(\"/content/drive\", force_remount=True).\n"
          ]
        }
      ],
      "source": [
        "#Montamos el drive \n",
        "from google.colab import drive\n",
        "drive.mount('/content/drive')"
      ]
    },
    {
      "cell_type": "code",
      "source": [
        "#Importamos librerías para poder manejar mejor el df\n",
        "import pandas as pd\n",
        "import numpy as np"
      ],
      "metadata": {
        "id": "CjgGPY3-kUCZ"
      },
      "execution_count": 325,
      "outputs": []
    },
    {
      "cell_type": "code",
      "source": [
        "nombrearchivo = '/content/drive/MyDrive/Coding Dojo/Códigos/Track 2 /Week 1 - Track2/Deberes /Ejercicio KNN/abalone.data'\n",
        "\n",
        "df = pd.read_csv(nombrearchivo)\n",
        "df.head() #Mostramos df"
      ],
      "metadata": {
        "colab": {
          "base_uri": "https://localhost:8080/",
          "height": 206
        },
        "id": "ZFASQyt1kcBT",
        "outputId": "4eae660d-a8ca-4964-e7dd-96ff311cc9d8"
      },
      "execution_count": 326,
      "outputs": [
        {
          "output_type": "execute_result",
          "data": {
            "text/html": [
              "\n",
              "  <div id=\"df-cd02a56a-ecf0-4be1-86f4-e32490f23cf1\">\n",
              "    <div class=\"colab-df-container\">\n",
              "      <div>\n",
              "<style scoped>\n",
              "    .dataframe tbody tr th:only-of-type {\n",
              "        vertical-align: middle;\n",
              "    }\n",
              "\n",
              "    .dataframe tbody tr th {\n",
              "        vertical-align: top;\n",
              "    }\n",
              "\n",
              "    .dataframe thead th {\n",
              "        text-align: right;\n",
              "    }\n",
              "</style>\n",
              "<table border=\"1\" class=\"dataframe\">\n",
              "  <thead>\n",
              "    <tr style=\"text-align: right;\">\n",
              "      <th></th>\n",
              "      <th>M</th>\n",
              "      <th>0.455</th>\n",
              "      <th>0.365</th>\n",
              "      <th>0.095</th>\n",
              "      <th>0.514</th>\n",
              "      <th>0.2245</th>\n",
              "      <th>0.101</th>\n",
              "      <th>0.15</th>\n",
              "      <th>15</th>\n",
              "    </tr>\n",
              "  </thead>\n",
              "  <tbody>\n",
              "    <tr>\n",
              "      <th>0</th>\n",
              "      <td>M</td>\n",
              "      <td>0.350</td>\n",
              "      <td>0.265</td>\n",
              "      <td>0.090</td>\n",
              "      <td>0.2255</td>\n",
              "      <td>0.0995</td>\n",
              "      <td>0.0485</td>\n",
              "      <td>0.070</td>\n",
              "      <td>7</td>\n",
              "    </tr>\n",
              "    <tr>\n",
              "      <th>1</th>\n",
              "      <td>F</td>\n",
              "      <td>0.530</td>\n",
              "      <td>0.420</td>\n",
              "      <td>0.135</td>\n",
              "      <td>0.6770</td>\n",
              "      <td>0.2565</td>\n",
              "      <td>0.1415</td>\n",
              "      <td>0.210</td>\n",
              "      <td>9</td>\n",
              "    </tr>\n",
              "    <tr>\n",
              "      <th>2</th>\n",
              "      <td>M</td>\n",
              "      <td>0.440</td>\n",
              "      <td>0.365</td>\n",
              "      <td>0.125</td>\n",
              "      <td>0.5160</td>\n",
              "      <td>0.2155</td>\n",
              "      <td>0.1140</td>\n",
              "      <td>0.155</td>\n",
              "      <td>10</td>\n",
              "    </tr>\n",
              "    <tr>\n",
              "      <th>3</th>\n",
              "      <td>I</td>\n",
              "      <td>0.330</td>\n",
              "      <td>0.255</td>\n",
              "      <td>0.080</td>\n",
              "      <td>0.2050</td>\n",
              "      <td>0.0895</td>\n",
              "      <td>0.0395</td>\n",
              "      <td>0.055</td>\n",
              "      <td>7</td>\n",
              "    </tr>\n",
              "    <tr>\n",
              "      <th>4</th>\n",
              "      <td>I</td>\n",
              "      <td>0.425</td>\n",
              "      <td>0.300</td>\n",
              "      <td>0.095</td>\n",
              "      <td>0.3515</td>\n",
              "      <td>0.1410</td>\n",
              "      <td>0.0775</td>\n",
              "      <td>0.120</td>\n",
              "      <td>8</td>\n",
              "    </tr>\n",
              "  </tbody>\n",
              "</table>\n",
              "</div>\n",
              "      <button class=\"colab-df-convert\" onclick=\"convertToInteractive('df-cd02a56a-ecf0-4be1-86f4-e32490f23cf1')\"\n",
              "              title=\"Convert this dataframe to an interactive table.\"\n",
              "              style=\"display:none;\">\n",
              "        \n",
              "  <svg xmlns=\"http://www.w3.org/2000/svg\" height=\"24px\"viewBox=\"0 0 24 24\"\n",
              "       width=\"24px\">\n",
              "    <path d=\"M0 0h24v24H0V0z\" fill=\"none\"/>\n",
              "    <path d=\"M18.56 5.44l.94 2.06.94-2.06 2.06-.94-2.06-.94-.94-2.06-.94 2.06-2.06.94zm-11 1L8.5 8.5l.94-2.06 2.06-.94-2.06-.94L8.5 2.5l-.94 2.06-2.06.94zm10 10l.94 2.06.94-2.06 2.06-.94-2.06-.94-.94-2.06-.94 2.06-2.06.94z\"/><path d=\"M17.41 7.96l-1.37-1.37c-.4-.4-.92-.59-1.43-.59-.52 0-1.04.2-1.43.59L10.3 9.45l-7.72 7.72c-.78.78-.78 2.05 0 2.83L4 21.41c.39.39.9.59 1.41.59.51 0 1.02-.2 1.41-.59l7.78-7.78 2.81-2.81c.8-.78.8-2.07 0-2.86zM5.41 20L4 18.59l7.72-7.72 1.47 1.35L5.41 20z\"/>\n",
              "  </svg>\n",
              "      </button>\n",
              "      \n",
              "  <style>\n",
              "    .colab-df-container {\n",
              "      display:flex;\n",
              "      flex-wrap:wrap;\n",
              "      gap: 12px;\n",
              "    }\n",
              "\n",
              "    .colab-df-convert {\n",
              "      background-color: #E8F0FE;\n",
              "      border: none;\n",
              "      border-radius: 50%;\n",
              "      cursor: pointer;\n",
              "      display: none;\n",
              "      fill: #1967D2;\n",
              "      height: 32px;\n",
              "      padding: 0 0 0 0;\n",
              "      width: 32px;\n",
              "    }\n",
              "\n",
              "    .colab-df-convert:hover {\n",
              "      background-color: #E2EBFA;\n",
              "      box-shadow: 0px 1px 2px rgba(60, 64, 67, 0.3), 0px 1px 3px 1px rgba(60, 64, 67, 0.15);\n",
              "      fill: #174EA6;\n",
              "    }\n",
              "\n",
              "    [theme=dark] .colab-df-convert {\n",
              "      background-color: #3B4455;\n",
              "      fill: #D2E3FC;\n",
              "    }\n",
              "\n",
              "    [theme=dark] .colab-df-convert:hover {\n",
              "      background-color: #434B5C;\n",
              "      box-shadow: 0px 1px 3px 1px rgba(0, 0, 0, 0.15);\n",
              "      filter: drop-shadow(0px 1px 2px rgba(0, 0, 0, 0.3));\n",
              "      fill: #FFFFFF;\n",
              "    }\n",
              "  </style>\n",
              "\n",
              "      <script>\n",
              "        const buttonEl =\n",
              "          document.querySelector('#df-cd02a56a-ecf0-4be1-86f4-e32490f23cf1 button.colab-df-convert');\n",
              "        buttonEl.style.display =\n",
              "          google.colab.kernel.accessAllowed ? 'block' : 'none';\n",
              "\n",
              "        async function convertToInteractive(key) {\n",
              "          const element = document.querySelector('#df-cd02a56a-ecf0-4be1-86f4-e32490f23cf1');\n",
              "          const dataTable =\n",
              "            await google.colab.kernel.invokeFunction('convertToInteractive',\n",
              "                                                     [key], {});\n",
              "          if (!dataTable) return;\n",
              "\n",
              "          const docLinkHtml = 'Like what you see? Visit the ' +\n",
              "            '<a target=\"_blank\" href=https://colab.research.google.com/notebooks/data_table.ipynb>data table notebook</a>'\n",
              "            + ' to learn more about interactive tables.';\n",
              "          element.innerHTML = '';\n",
              "          dataTable['output_type'] = 'display_data';\n",
              "          await google.colab.output.renderOutput(dataTable, element);\n",
              "          const docLink = document.createElement('div');\n",
              "          docLink.innerHTML = docLinkHtml;\n",
              "          element.appendChild(docLink);\n",
              "        }\n",
              "      </script>\n",
              "    </div>\n",
              "  </div>\n",
              "  "
            ],
            "text/plain": [
              "   M  0.455  0.365  0.095   0.514  0.2245   0.101   0.15  15\n",
              "0  M  0.350  0.265  0.090  0.2255  0.0995  0.0485  0.070   7\n",
              "1  F  0.530  0.420  0.135  0.6770  0.2565  0.1415  0.210   9\n",
              "2  M  0.440  0.365  0.125  0.5160  0.2155  0.1140  0.155  10\n",
              "3  I  0.330  0.255  0.080  0.2050  0.0895  0.0395  0.055   7\n",
              "4  I  0.425  0.300  0.095  0.3515  0.1410  0.0775  0.120   8"
            ]
          },
          "metadata": {},
          "execution_count": 326
        }
      ]
    },
    {
      "cell_type": "markdown",
      "source": [
        "#Limpieza de datos "
      ],
      "metadata": {
        "id": "1fSnaKpVmC8z"
      }
    },
    {
      "cell_type": "code",
      "source": [
        "#observamos que no hay datos faltantes \n",
        "df.info()"
      ],
      "metadata": {
        "colab": {
          "base_uri": "https://localhost:8080/"
        },
        "id": "hTEdYTdNk2zh",
        "outputId": "d66eed08-1f13-4f51-a1b8-9fa78fd2eb50"
      },
      "execution_count": 327,
      "outputs": [
        {
          "output_type": "stream",
          "name": "stdout",
          "text": [
            "<class 'pandas.core.frame.DataFrame'>\n",
            "RangeIndex: 4176 entries, 0 to 4175\n",
            "Data columns (total 9 columns):\n",
            " #   Column  Non-Null Count  Dtype  \n",
            "---  ------  --------------  -----  \n",
            " 0   M       4176 non-null   object \n",
            " 1   0.455   4176 non-null   float64\n",
            " 2   0.365   4176 non-null   float64\n",
            " 3   0.095   4176 non-null   float64\n",
            " 4   0.514   4176 non-null   float64\n",
            " 5   0.2245  4176 non-null   float64\n",
            " 6   0.101   4176 non-null   float64\n",
            " 7   0.15    4176 non-null   float64\n",
            " 8   15      4176 non-null   int64  \n",
            "dtypes: float64(7), int64(1), object(1)\n",
            "memory usage: 293.8+ KB\n"
          ]
        }
      ]
    },
    {
      "cell_type": "code",
      "source": [
        "#nuestra base de datos está completa\n",
        "df.isnull().sum() "
      ],
      "metadata": {
        "colab": {
          "base_uri": "https://localhost:8080/"
        },
        "id": "ZpE7imwgk8Ur",
        "outputId": "f5b0e100-71a7-480e-c2bd-09a907636e2d"
      },
      "execution_count": 328,
      "outputs": [
        {
          "output_type": "execute_result",
          "data": {
            "text/plain": [
              "M         0\n",
              "0.455     0\n",
              "0.365     0\n",
              "0.095     0\n",
              "0.514     0\n",
              "0.2245    0\n",
              "0.101     0\n",
              "0.15      0\n",
              "15        0\n",
              "dtype: int64"
            ]
          },
          "metadata": {},
          "execution_count": 328
        }
      ]
    },
    {
      "cell_type": "markdown",
      "source": [
        "Ahora, se observa que los nombres de las columnas son en realidad parte de otra fila de datos"
      ],
      "metadata": {
        "id": "KLy808xCmAbP"
      }
    },
    {
      "cell_type": "code",
      "source": [
        "df.columns.values[0:9]"
      ],
      "metadata": {
        "colab": {
          "base_uri": "https://localhost:8080/"
        },
        "id": "wjwpKyoMmLnM",
        "outputId": "2d39e089-de0a-4d4a-f7d9-210763c82369"
      },
      "execution_count": 329,
      "outputs": [
        {
          "output_type": "execute_result",
          "data": {
            "text/plain": [
              "array(['M', '0.455', '0.365', '0.095', '0.514', '0.2245', '0.101', '0.15',\n",
              "       '15'], dtype=object)"
            ]
          },
          "metadata": {},
          "execution_count": 329
        }
      ]
    },
    {
      "cell_type": "code",
      "source": [
        "#Creación de un diccionario para anexarlo a nuestra df \n",
        "extra_fila = {'M':'M','0.455':0.455,'0.365':0.365,'0.095':0.095,'0.514':0.514,'0.2245':0.2245, '0.101': 0.101,'0.15':0.15,'15':15}\n",
        "#Se anexa a la df / Nota: no olvidar el 'ignore_index = True' o arrojará error\n",
        "df = df.append(extra_fila,ignore_index = True)\n",
        "df.tail() "
      ],
      "metadata": {
        "colab": {
          "base_uri": "https://localhost:8080/",
          "height": 206
        },
        "id": "qaYb6HUZmlm8",
        "outputId": "f56870cb-71c3-452f-ca1a-138ba734d023"
      },
      "execution_count": 330,
      "outputs": [
        {
          "output_type": "execute_result",
          "data": {
            "text/html": [
              "\n",
              "  <div id=\"df-96a17518-8ae9-4d7b-a647-f4416d55068e\">\n",
              "    <div class=\"colab-df-container\">\n",
              "      <div>\n",
              "<style scoped>\n",
              "    .dataframe tbody tr th:only-of-type {\n",
              "        vertical-align: middle;\n",
              "    }\n",
              "\n",
              "    .dataframe tbody tr th {\n",
              "        vertical-align: top;\n",
              "    }\n",
              "\n",
              "    .dataframe thead th {\n",
              "        text-align: right;\n",
              "    }\n",
              "</style>\n",
              "<table border=\"1\" class=\"dataframe\">\n",
              "  <thead>\n",
              "    <tr style=\"text-align: right;\">\n",
              "      <th></th>\n",
              "      <th>M</th>\n",
              "      <th>0.455</th>\n",
              "      <th>0.365</th>\n",
              "      <th>0.095</th>\n",
              "      <th>0.514</th>\n",
              "      <th>0.2245</th>\n",
              "      <th>0.101</th>\n",
              "      <th>0.15</th>\n",
              "      <th>15</th>\n",
              "    </tr>\n",
              "  </thead>\n",
              "  <tbody>\n",
              "    <tr>\n",
              "      <th>4172</th>\n",
              "      <td>M</td>\n",
              "      <td>0.590</td>\n",
              "      <td>0.440</td>\n",
              "      <td>0.135</td>\n",
              "      <td>0.9660</td>\n",
              "      <td>0.4390</td>\n",
              "      <td>0.2145</td>\n",
              "      <td>0.2605</td>\n",
              "      <td>10</td>\n",
              "    </tr>\n",
              "    <tr>\n",
              "      <th>4173</th>\n",
              "      <td>M</td>\n",
              "      <td>0.600</td>\n",
              "      <td>0.475</td>\n",
              "      <td>0.205</td>\n",
              "      <td>1.1760</td>\n",
              "      <td>0.5255</td>\n",
              "      <td>0.2875</td>\n",
              "      <td>0.3080</td>\n",
              "      <td>9</td>\n",
              "    </tr>\n",
              "    <tr>\n",
              "      <th>4174</th>\n",
              "      <td>F</td>\n",
              "      <td>0.625</td>\n",
              "      <td>0.485</td>\n",
              "      <td>0.150</td>\n",
              "      <td>1.0945</td>\n",
              "      <td>0.5310</td>\n",
              "      <td>0.2610</td>\n",
              "      <td>0.2960</td>\n",
              "      <td>10</td>\n",
              "    </tr>\n",
              "    <tr>\n",
              "      <th>4175</th>\n",
              "      <td>M</td>\n",
              "      <td>0.710</td>\n",
              "      <td>0.555</td>\n",
              "      <td>0.195</td>\n",
              "      <td>1.9485</td>\n",
              "      <td>0.9455</td>\n",
              "      <td>0.3765</td>\n",
              "      <td>0.4950</td>\n",
              "      <td>12</td>\n",
              "    </tr>\n",
              "    <tr>\n",
              "      <th>4176</th>\n",
              "      <td>M</td>\n",
              "      <td>0.455</td>\n",
              "      <td>0.365</td>\n",
              "      <td>0.095</td>\n",
              "      <td>0.5140</td>\n",
              "      <td>0.2245</td>\n",
              "      <td>0.1010</td>\n",
              "      <td>0.1500</td>\n",
              "      <td>15</td>\n",
              "    </tr>\n",
              "  </tbody>\n",
              "</table>\n",
              "</div>\n",
              "      <button class=\"colab-df-convert\" onclick=\"convertToInteractive('df-96a17518-8ae9-4d7b-a647-f4416d55068e')\"\n",
              "              title=\"Convert this dataframe to an interactive table.\"\n",
              "              style=\"display:none;\">\n",
              "        \n",
              "  <svg xmlns=\"http://www.w3.org/2000/svg\" height=\"24px\"viewBox=\"0 0 24 24\"\n",
              "       width=\"24px\">\n",
              "    <path d=\"M0 0h24v24H0V0z\" fill=\"none\"/>\n",
              "    <path d=\"M18.56 5.44l.94 2.06.94-2.06 2.06-.94-2.06-.94-.94-2.06-.94 2.06-2.06.94zm-11 1L8.5 8.5l.94-2.06 2.06-.94-2.06-.94L8.5 2.5l-.94 2.06-2.06.94zm10 10l.94 2.06.94-2.06 2.06-.94-2.06-.94-.94-2.06-.94 2.06-2.06.94z\"/><path d=\"M17.41 7.96l-1.37-1.37c-.4-.4-.92-.59-1.43-.59-.52 0-1.04.2-1.43.59L10.3 9.45l-7.72 7.72c-.78.78-.78 2.05 0 2.83L4 21.41c.39.39.9.59 1.41.59.51 0 1.02-.2 1.41-.59l7.78-7.78 2.81-2.81c.8-.78.8-2.07 0-2.86zM5.41 20L4 18.59l7.72-7.72 1.47 1.35L5.41 20z\"/>\n",
              "  </svg>\n",
              "      </button>\n",
              "      \n",
              "  <style>\n",
              "    .colab-df-container {\n",
              "      display:flex;\n",
              "      flex-wrap:wrap;\n",
              "      gap: 12px;\n",
              "    }\n",
              "\n",
              "    .colab-df-convert {\n",
              "      background-color: #E8F0FE;\n",
              "      border: none;\n",
              "      border-radius: 50%;\n",
              "      cursor: pointer;\n",
              "      display: none;\n",
              "      fill: #1967D2;\n",
              "      height: 32px;\n",
              "      padding: 0 0 0 0;\n",
              "      width: 32px;\n",
              "    }\n",
              "\n",
              "    .colab-df-convert:hover {\n",
              "      background-color: #E2EBFA;\n",
              "      box-shadow: 0px 1px 2px rgba(60, 64, 67, 0.3), 0px 1px 3px 1px rgba(60, 64, 67, 0.15);\n",
              "      fill: #174EA6;\n",
              "    }\n",
              "\n",
              "    [theme=dark] .colab-df-convert {\n",
              "      background-color: #3B4455;\n",
              "      fill: #D2E3FC;\n",
              "    }\n",
              "\n",
              "    [theme=dark] .colab-df-convert:hover {\n",
              "      background-color: #434B5C;\n",
              "      box-shadow: 0px 1px 3px 1px rgba(0, 0, 0, 0.15);\n",
              "      filter: drop-shadow(0px 1px 2px rgba(0, 0, 0, 0.3));\n",
              "      fill: #FFFFFF;\n",
              "    }\n",
              "  </style>\n",
              "\n",
              "      <script>\n",
              "        const buttonEl =\n",
              "          document.querySelector('#df-96a17518-8ae9-4d7b-a647-f4416d55068e button.colab-df-convert');\n",
              "        buttonEl.style.display =\n",
              "          google.colab.kernel.accessAllowed ? 'block' : 'none';\n",
              "\n",
              "        async function convertToInteractive(key) {\n",
              "          const element = document.querySelector('#df-96a17518-8ae9-4d7b-a647-f4416d55068e');\n",
              "          const dataTable =\n",
              "            await google.colab.kernel.invokeFunction('convertToInteractive',\n",
              "                                                     [key], {});\n",
              "          if (!dataTable) return;\n",
              "\n",
              "          const docLinkHtml = 'Like what you see? Visit the ' +\n",
              "            '<a target=\"_blank\" href=https://colab.research.google.com/notebooks/data_table.ipynb>data table notebook</a>'\n",
              "            + ' to learn more about interactive tables.';\n",
              "          element.innerHTML = '';\n",
              "          dataTable['output_type'] = 'display_data';\n",
              "          await google.colab.output.renderOutput(dataTable, element);\n",
              "          const docLink = document.createElement('div');\n",
              "          docLink.innerHTML = docLinkHtml;\n",
              "          element.appendChild(docLink);\n",
              "        }\n",
              "      </script>\n",
              "    </div>\n",
              "  </div>\n",
              "  "
            ],
            "text/plain": [
              "      M  0.455  0.365  0.095   0.514  0.2245   0.101    0.15  15\n",
              "4172  M  0.590  0.440  0.135  0.9660  0.4390  0.2145  0.2605  10\n",
              "4173  M  0.600  0.475  0.205  1.1760  0.5255  0.2875  0.3080   9\n",
              "4174  F  0.625  0.485  0.150  1.0945  0.5310  0.2610  0.2960  10\n",
              "4175  M  0.710  0.555  0.195  1.9485  0.9455  0.3765  0.4950  12\n",
              "4176  M  0.455  0.365  0.095  0.5140  0.2245  0.1010  0.1500  15"
            ]
          },
          "metadata": {},
          "execution_count": 330
        }
      ]
    },
    {
      "cell_type": "markdown",
      "source": [
        "Efectivamente, nuestra última fila ya se encuentra en la df\n",
        "\n",
        "![Sin título3.png](data:image/png;base64,iVBORw0KGgoAAAANSUhEUgAAAX0AAAAbCAIAAAAfwcj1AAAAAXNSR0IArs4c6QAAAARnQU1BAACxjwv8YQUAAAAJcEhZcwAADsMAAA7DAcdvqGQAAALHSURBVHhe7Z1dbhsxDITdoq++j4/lo/iuvkBnl6rAkvqhY4lu0PkeNhSXmqHWghDHgPPjdrtdCCEkkb/Onev1WiJCCFnN8/mU4Kf8IISQNHjuEEKy4blDCMmG5w4hJBueO4SQbHjuEEKyCX2O/ng8cL3f734occUk65QxqDeVPjNm6qgFazGQpM/EGVj7W4MMeMk63zfiCLRFs9L3EGygEulk6tLsBASbGfQAtDhoFkdqBnytASB5P/3VBoSpkaZ+jv5LfgzQQsAMfdMSII8ABNegKxFLEMTM9Y5e0NcE+zQMrP2tXrGeFaQnBfytXrGeNaUnUjEZ1JRIoZNTwR6Dif5WrxixBBWtM6UnKxjxZnGkZsC43ogLusZPHwv2mBr1mLzPMh00bYDkjR+GJvMR/BJMVz6zhLGm3N1kPWWtb/CRJizW6zcdTSe7n4Zn66Pw4pvs3jF6+e87QV10AMogAGSlHtcdz0hztnZQxq3MKkS2rkiGQIagjDdYjymui3yL1h+13a/gckr3K55GZO1bn09TvCxv6TZ7x2j0PguTjXTPCVdfebpvP0TG+Ab0UO76TBmsQNSqbBVPsK5AFuJlcLLWN6K2b3VNvF3N+Ft6mNxnDmkLjBvN32eBGkvwvahL+Kb9LwE7QCjjT5D2QkDfrNRkjj7++y3xWUbnzrlRD+pQgk1AH/tgrcvR/YnEuPqttmnzRWRz9v3uJUfU5FUAEktyB2jG6JvM0cSJxLiufRr/IGkLjBu9+zm6H4Jqr5MDUF93gAmCeEejoIfNYgleMhUG1hGjL1vn+77kCOpdjU42Z0XwE0W25oVmpkRvd+KnGEHjJYFJTmsG+HotOBWPZCJMjTT1c3R+DwYhJAl+DwYh5GPw3CGEZMNzhxCSDc8dQkg2PHcIIdnw3CGEZMNzhxCSDf9/FiEkG/6+QwjJhucOISSXy+U303bK46Nmok8AAAAASUVORK5CYII=)"
      ],
      "metadata": {
        "id": "z7mIXKk7oupr"
      }
    },
    {
      "cell_type": "code",
      "source": [
        "#vemos la info de la df de nuevo para ver si no se cambiaron los tipos de datos\n",
        "df.info()"
      ],
      "metadata": {
        "colab": {
          "base_uri": "https://localhost:8080/"
        },
        "id": "f0t3vxdom_ii",
        "outputId": "8b84f15d-24b0-405a-8006-a60d8195a187"
      },
      "execution_count": 331,
      "outputs": [
        {
          "output_type": "stream",
          "name": "stdout",
          "text": [
            "<class 'pandas.core.frame.DataFrame'>\n",
            "RangeIndex: 4177 entries, 0 to 4176\n",
            "Data columns (total 9 columns):\n",
            " #   Column  Non-Null Count  Dtype  \n",
            "---  ------  --------------  -----  \n",
            " 0   M       4177 non-null   object \n",
            " 1   0.455   4177 non-null   float64\n",
            " 2   0.365   4177 non-null   float64\n",
            " 3   0.095   4177 non-null   float64\n",
            " 4   0.514   4177 non-null   float64\n",
            " 5   0.2245  4177 non-null   float64\n",
            " 6   0.101   4177 non-null   float64\n",
            " 7   0.15    4177 non-null   float64\n",
            " 8   15      4177 non-null   int64  \n",
            "dtypes: float64(7), int64(1), object(1)\n",
            "memory usage: 293.8+ KB\n"
          ]
        }
      ]
    },
    {
      "cell_type": "markdown",
      "source": [
        "Todo está correcto con respecto a los valores."
      ],
      "metadata": {
        "id": "xYtjoIxEpnZz"
      }
    },
    {
      "cell_type": "markdown",
      "source": [
        "Ahora, se cambian los valores de las columnas con respecto a los datos que se presentan en el documento de información sobre el df\n",
        "\n",
        "![Sin título2.png](data:image/png;base64,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)"
      ],
      "metadata": {
        "id": "YrYYCZLupsvc"
      }
    },
    {
      "cell_type": "code",
      "source": [
        "#creamos una lista con los nombres de columnas nuevos y reeemplazamos \n",
        "df.columns = ['Sexo','Largo (mm)','Diámetro (mm)','Ancho (mm)','Peso total (grs)', 'Peso de carne (grs)','Peso vísceras (grs)','Peso caparazón (grs)','N° Anillos']"
      ],
      "metadata": {
        "id": "3hSzF7FqpJsX"
      },
      "execution_count": 349,
      "outputs": []
    },
    {
      "cell_type": "code",
      "source": [
        "df.head() #comprobamos los cambios"
      ],
      "metadata": {
        "colab": {
          "base_uri": "https://localhost:8080/",
          "height": 206
        },
        "id": "8Jnv6653rhhx",
        "outputId": "f64663ea-1d13-4f25-cc37-8ad70f46b79c"
      },
      "execution_count": 350,
      "outputs": [
        {
          "output_type": "execute_result",
          "data": {
            "text/html": [
              "\n",
              "  <div id=\"df-227617a4-7b29-40d0-bd20-755b5e49a449\">\n",
              "    <div class=\"colab-df-container\">\n",
              "      <div>\n",
              "<style scoped>\n",
              "    .dataframe tbody tr th:only-of-type {\n",
              "        vertical-align: middle;\n",
              "    }\n",
              "\n",
              "    .dataframe tbody tr th {\n",
              "        vertical-align: top;\n",
              "    }\n",
              "\n",
              "    .dataframe thead th {\n",
              "        text-align: right;\n",
              "    }\n",
              "</style>\n",
              "<table border=\"1\" class=\"dataframe\">\n",
              "  <thead>\n",
              "    <tr style=\"text-align: right;\">\n",
              "      <th></th>\n",
              "      <th>Sexo</th>\n",
              "      <th>Largo (mm)</th>\n",
              "      <th>Diámetro (mm)</th>\n",
              "      <th>Ancho (mm)</th>\n",
              "      <th>Peso total (grs)</th>\n",
              "      <th>Peso de carne (grs)</th>\n",
              "      <th>Peso vísceras (grs)</th>\n",
              "      <th>Peso caparazón (grs)</th>\n",
              "      <th>N° Anillos</th>\n",
              "    </tr>\n",
              "  </thead>\n",
              "  <tbody>\n",
              "    <tr>\n",
              "      <th>0</th>\n",
              "      <td>M</td>\n",
              "      <td>0.350</td>\n",
              "      <td>0.265</td>\n",
              "      <td>0.090</td>\n",
              "      <td>0.2255</td>\n",
              "      <td>0.0995</td>\n",
              "      <td>0.0485</td>\n",
              "      <td>0.070</td>\n",
              "      <td>7</td>\n",
              "    </tr>\n",
              "    <tr>\n",
              "      <th>1</th>\n",
              "      <td>F</td>\n",
              "      <td>0.530</td>\n",
              "      <td>0.420</td>\n",
              "      <td>0.135</td>\n",
              "      <td>0.6770</td>\n",
              "      <td>0.2565</td>\n",
              "      <td>0.1415</td>\n",
              "      <td>0.210</td>\n",
              "      <td>9</td>\n",
              "    </tr>\n",
              "    <tr>\n",
              "      <th>2</th>\n",
              "      <td>M</td>\n",
              "      <td>0.440</td>\n",
              "      <td>0.365</td>\n",
              "      <td>0.125</td>\n",
              "      <td>0.5160</td>\n",
              "      <td>0.2155</td>\n",
              "      <td>0.1140</td>\n",
              "      <td>0.155</td>\n",
              "      <td>10</td>\n",
              "    </tr>\n",
              "    <tr>\n",
              "      <th>3</th>\n",
              "      <td>I</td>\n",
              "      <td>0.330</td>\n",
              "      <td>0.255</td>\n",
              "      <td>0.080</td>\n",
              "      <td>0.2050</td>\n",
              "      <td>0.0895</td>\n",
              "      <td>0.0395</td>\n",
              "      <td>0.055</td>\n",
              "      <td>7</td>\n",
              "    </tr>\n",
              "    <tr>\n",
              "      <th>4</th>\n",
              "      <td>I</td>\n",
              "      <td>0.425</td>\n",
              "      <td>0.300</td>\n",
              "      <td>0.095</td>\n",
              "      <td>0.3515</td>\n",
              "      <td>0.1410</td>\n",
              "      <td>0.0775</td>\n",
              "      <td>0.120</td>\n",
              "      <td>8</td>\n",
              "    </tr>\n",
              "  </tbody>\n",
              "</table>\n",
              "</div>\n",
              "      <button class=\"colab-df-convert\" onclick=\"convertToInteractive('df-227617a4-7b29-40d0-bd20-755b5e49a449')\"\n",
              "              title=\"Convert this dataframe to an interactive table.\"\n",
              "              style=\"display:none;\">\n",
              "        \n",
              "  <svg xmlns=\"http://www.w3.org/2000/svg\" height=\"24px\"viewBox=\"0 0 24 24\"\n",
              "       width=\"24px\">\n",
              "    <path d=\"M0 0h24v24H0V0z\" fill=\"none\"/>\n",
              "    <path d=\"M18.56 5.44l.94 2.06.94-2.06 2.06-.94-2.06-.94-.94-2.06-.94 2.06-2.06.94zm-11 1L8.5 8.5l.94-2.06 2.06-.94-2.06-.94L8.5 2.5l-.94 2.06-2.06.94zm10 10l.94 2.06.94-2.06 2.06-.94-2.06-.94-.94-2.06-.94 2.06-2.06.94z\"/><path d=\"M17.41 7.96l-1.37-1.37c-.4-.4-.92-.59-1.43-.59-.52 0-1.04.2-1.43.59L10.3 9.45l-7.72 7.72c-.78.78-.78 2.05 0 2.83L4 21.41c.39.39.9.59 1.41.59.51 0 1.02-.2 1.41-.59l7.78-7.78 2.81-2.81c.8-.78.8-2.07 0-2.86zM5.41 20L4 18.59l7.72-7.72 1.47 1.35L5.41 20z\"/>\n",
              "  </svg>\n",
              "      </button>\n",
              "      \n",
              "  <style>\n",
              "    .colab-df-container {\n",
              "      display:flex;\n",
              "      flex-wrap:wrap;\n",
              "      gap: 12px;\n",
              "    }\n",
              "\n",
              "    .colab-df-convert {\n",
              "      background-color: #E8F0FE;\n",
              "      border: none;\n",
              "      border-radius: 50%;\n",
              "      cursor: pointer;\n",
              "      display: none;\n",
              "      fill: #1967D2;\n",
              "      height: 32px;\n",
              "      padding: 0 0 0 0;\n",
              "      width: 32px;\n",
              "    }\n",
              "\n",
              "    .colab-df-convert:hover {\n",
              "      background-color: #E2EBFA;\n",
              "      box-shadow: 0px 1px 2px rgba(60, 64, 67, 0.3), 0px 1px 3px 1px rgba(60, 64, 67, 0.15);\n",
              "      fill: #174EA6;\n",
              "    }\n",
              "\n",
              "    [theme=dark] .colab-df-convert {\n",
              "      background-color: #3B4455;\n",
              "      fill: #D2E3FC;\n",
              "    }\n",
              "\n",
              "    [theme=dark] .colab-df-convert:hover {\n",
              "      background-color: #434B5C;\n",
              "      box-shadow: 0px 1px 3px 1px rgba(0, 0, 0, 0.15);\n",
              "      filter: drop-shadow(0px 1px 2px rgba(0, 0, 0, 0.3));\n",
              "      fill: #FFFFFF;\n",
              "    }\n",
              "  </style>\n",
              "\n",
              "      <script>\n",
              "        const buttonEl =\n",
              "          document.querySelector('#df-227617a4-7b29-40d0-bd20-755b5e49a449 button.colab-df-convert');\n",
              "        buttonEl.style.display =\n",
              "          google.colab.kernel.accessAllowed ? 'block' : 'none';\n",
              "\n",
              "        async function convertToInteractive(key) {\n",
              "          const element = document.querySelector('#df-227617a4-7b29-40d0-bd20-755b5e49a449');\n",
              "          const dataTable =\n",
              "            await google.colab.kernel.invokeFunction('convertToInteractive',\n",
              "                                                     [key], {});\n",
              "          if (!dataTable) return;\n",
              "\n",
              "          const docLinkHtml = 'Like what you see? Visit the ' +\n",
              "            '<a target=\"_blank\" href=https://colab.research.google.com/notebooks/data_table.ipynb>data table notebook</a>'\n",
              "            + ' to learn more about interactive tables.';\n",
              "          element.innerHTML = '';\n",
              "          dataTable['output_type'] = 'display_data';\n",
              "          await google.colab.output.renderOutput(dataTable, element);\n",
              "          const docLink = document.createElement('div');\n",
              "          docLink.innerHTML = docLinkHtml;\n",
              "          element.appendChild(docLink);\n",
              "        }\n",
              "      </script>\n",
              "    </div>\n",
              "  </div>\n",
              "  "
            ],
            "text/plain": [
              "  Sexo  Largo (mm)  ...  Peso caparazón (grs)  N° Anillos\n",
              "0    M       0.350  ...                 0.070           7\n",
              "1    F       0.530  ...                 0.210           9\n",
              "2    M       0.440  ...                 0.155          10\n",
              "3    I       0.330  ...                 0.055           7\n",
              "4    I       0.425  ...                 0.120           8\n",
              "\n",
              "[5 rows x 9 columns]"
            ]
          },
          "metadata": {},
          "execution_count": 350
        }
      ]
    },
    {
      "cell_type": "markdown",
      "source": [
        "Listo!"
      ],
      "metadata": {
        "id": "LKrDy1pMr1cU"
      }
    },
    {
      "cell_type": "markdown",
      "source": [
        "# Tarea\n",
        " - La primera tarea es utilizar el conjunto de datos del abulón para predecir la edad del abulón a partir de mediciones físicas utilizando KNN. Este es un problema de regresión. \n",
        "\n",
        "- La segunda tarea es utilizar el conjunto de datos de abulón para predecir el sexo a partir de sus características. \n"
      ],
      "metadata": {
        "id": "4sNbACtRsJK0"
      }
    },
    {
      "cell_type": "markdown",
      "source": [
        "## Tarea N° 1\n",
        "- La primera tarea es utilizar el conjunto de datos del abulón para predecir la edad del abulón a partir de mediciones físicas utilizando KNN. Este es un problema de regresión. "
      ],
      "metadata": {
        "id": "RYHHG1ulsiNs"
      }
    },
    {
      "cell_type": "code",
      "source": [
        "df.head()"
      ],
      "metadata": {
        "colab": {
          "base_uri": "https://localhost:8080/",
          "height": 206
        },
        "id": "evYnloYZri5a",
        "outputId": "83d3b64d-ab5b-4635-e160-3bf9b5dcf40a"
      },
      "execution_count": 351,
      "outputs": [
        {
          "output_type": "execute_result",
          "data": {
            "text/html": [
              "\n",
              "  <div id=\"df-f3f7eca8-1d57-4921-82ae-0a51ce8047fd\">\n",
              "    <div class=\"colab-df-container\">\n",
              "      <div>\n",
              "<style scoped>\n",
              "    .dataframe tbody tr th:only-of-type {\n",
              "        vertical-align: middle;\n",
              "    }\n",
              "\n",
              "    .dataframe tbody tr th {\n",
              "        vertical-align: top;\n",
              "    }\n",
              "\n",
              "    .dataframe thead th {\n",
              "        text-align: right;\n",
              "    }\n",
              "</style>\n",
              "<table border=\"1\" class=\"dataframe\">\n",
              "  <thead>\n",
              "    <tr style=\"text-align: right;\">\n",
              "      <th></th>\n",
              "      <th>Sexo</th>\n",
              "      <th>Largo (mm)</th>\n",
              "      <th>Diámetro (mm)</th>\n",
              "      <th>Ancho (mm)</th>\n",
              "      <th>Peso total (grs)</th>\n",
              "      <th>Peso de carne (grs)</th>\n",
              "      <th>Peso vísceras (grs)</th>\n",
              "      <th>Peso caparazón (grs)</th>\n",
              "      <th>N° Anillos</th>\n",
              "    </tr>\n",
              "  </thead>\n",
              "  <tbody>\n",
              "    <tr>\n",
              "      <th>0</th>\n",
              "      <td>M</td>\n",
              "      <td>0.350</td>\n",
              "      <td>0.265</td>\n",
              "      <td>0.090</td>\n",
              "      <td>0.2255</td>\n",
              "      <td>0.0995</td>\n",
              "      <td>0.0485</td>\n",
              "      <td>0.070</td>\n",
              "      <td>7</td>\n",
              "    </tr>\n",
              "    <tr>\n",
              "      <th>1</th>\n",
              "      <td>F</td>\n",
              "      <td>0.530</td>\n",
              "      <td>0.420</td>\n",
              "      <td>0.135</td>\n",
              "      <td>0.6770</td>\n",
              "      <td>0.2565</td>\n",
              "      <td>0.1415</td>\n",
              "      <td>0.210</td>\n",
              "      <td>9</td>\n",
              "    </tr>\n",
              "    <tr>\n",
              "      <th>2</th>\n",
              "      <td>M</td>\n",
              "      <td>0.440</td>\n",
              "      <td>0.365</td>\n",
              "      <td>0.125</td>\n",
              "      <td>0.5160</td>\n",
              "      <td>0.2155</td>\n",
              "      <td>0.1140</td>\n",
              "      <td>0.155</td>\n",
              "      <td>10</td>\n",
              "    </tr>\n",
              "    <tr>\n",
              "      <th>3</th>\n",
              "      <td>I</td>\n",
              "      <td>0.330</td>\n",
              "      <td>0.255</td>\n",
              "      <td>0.080</td>\n",
              "      <td>0.2050</td>\n",
              "      <td>0.0895</td>\n",
              "      <td>0.0395</td>\n",
              "      <td>0.055</td>\n",
              "      <td>7</td>\n",
              "    </tr>\n",
              "    <tr>\n",
              "      <th>4</th>\n",
              "      <td>I</td>\n",
              "      <td>0.425</td>\n",
              "      <td>0.300</td>\n",
              "      <td>0.095</td>\n",
              "      <td>0.3515</td>\n",
              "      <td>0.1410</td>\n",
              "      <td>0.0775</td>\n",
              "      <td>0.120</td>\n",
              "      <td>8</td>\n",
              "    </tr>\n",
              "  </tbody>\n",
              "</table>\n",
              "</div>\n",
              "      <button class=\"colab-df-convert\" onclick=\"convertToInteractive('df-f3f7eca8-1d57-4921-82ae-0a51ce8047fd')\"\n",
              "              title=\"Convert this dataframe to an interactive table.\"\n",
              "              style=\"display:none;\">\n",
              "        \n",
              "  <svg xmlns=\"http://www.w3.org/2000/svg\" height=\"24px\"viewBox=\"0 0 24 24\"\n",
              "       width=\"24px\">\n",
              "    <path d=\"M0 0h24v24H0V0z\" fill=\"none\"/>\n",
              "    <path d=\"M18.56 5.44l.94 2.06.94-2.06 2.06-.94-2.06-.94-.94-2.06-.94 2.06-2.06.94zm-11 1L8.5 8.5l.94-2.06 2.06-.94-2.06-.94L8.5 2.5l-.94 2.06-2.06.94zm10 10l.94 2.06.94-2.06 2.06-.94-2.06-.94-.94-2.06-.94 2.06-2.06.94z\"/><path d=\"M17.41 7.96l-1.37-1.37c-.4-.4-.92-.59-1.43-.59-.52 0-1.04.2-1.43.59L10.3 9.45l-7.72 7.72c-.78.78-.78 2.05 0 2.83L4 21.41c.39.39.9.59 1.41.59.51 0 1.02-.2 1.41-.59l7.78-7.78 2.81-2.81c.8-.78.8-2.07 0-2.86zM5.41 20L4 18.59l7.72-7.72 1.47 1.35L5.41 20z\"/>\n",
              "  </svg>\n",
              "      </button>\n",
              "      \n",
              "  <style>\n",
              "    .colab-df-container {\n",
              "      display:flex;\n",
              "      flex-wrap:wrap;\n",
              "      gap: 12px;\n",
              "    }\n",
              "\n",
              "    .colab-df-convert {\n",
              "      background-color: #E8F0FE;\n",
              "      border: none;\n",
              "      border-radius: 50%;\n",
              "      cursor: pointer;\n",
              "      display: none;\n",
              "      fill: #1967D2;\n",
              "      height: 32px;\n",
              "      padding: 0 0 0 0;\n",
              "      width: 32px;\n",
              "    }\n",
              "\n",
              "    .colab-df-convert:hover {\n",
              "      background-color: #E2EBFA;\n",
              "      box-shadow: 0px 1px 2px rgba(60, 64, 67, 0.3), 0px 1px 3px 1px rgba(60, 64, 67, 0.15);\n",
              "      fill: #174EA6;\n",
              "    }\n",
              "\n",
              "    [theme=dark] .colab-df-convert {\n",
              "      background-color: #3B4455;\n",
              "      fill: #D2E3FC;\n",
              "    }\n",
              "\n",
              "    [theme=dark] .colab-df-convert:hover {\n",
              "      background-color: #434B5C;\n",
              "      box-shadow: 0px 1px 3px 1px rgba(0, 0, 0, 0.15);\n",
              "      filter: drop-shadow(0px 1px 2px rgba(0, 0, 0, 0.3));\n",
              "      fill: #FFFFFF;\n",
              "    }\n",
              "  </style>\n",
              "\n",
              "      <script>\n",
              "        const buttonEl =\n",
              "          document.querySelector('#df-f3f7eca8-1d57-4921-82ae-0a51ce8047fd button.colab-df-convert');\n",
              "        buttonEl.style.display =\n",
              "          google.colab.kernel.accessAllowed ? 'block' : 'none';\n",
              "\n",
              "        async function convertToInteractive(key) {\n",
              "          const element = document.querySelector('#df-f3f7eca8-1d57-4921-82ae-0a51ce8047fd');\n",
              "          const dataTable =\n",
              "            await google.colab.kernel.invokeFunction('convertToInteractive',\n",
              "                                                     [key], {});\n",
              "          if (!dataTable) return;\n",
              "\n",
              "          const docLinkHtml = 'Like what you see? Visit the ' +\n",
              "            '<a target=\"_blank\" href=https://colab.research.google.com/notebooks/data_table.ipynb>data table notebook</a>'\n",
              "            + ' to learn more about interactive tables.';\n",
              "          element.innerHTML = '';\n",
              "          dataTable['output_type'] = 'display_data';\n",
              "          await google.colab.output.renderOutput(dataTable, element);\n",
              "          const docLink = document.createElement('div');\n",
              "          docLink.innerHTML = docLinkHtml;\n",
              "          element.appendChild(docLink);\n",
              "        }\n",
              "      </script>\n",
              "    </div>\n",
              "  </div>\n",
              "  "
            ],
            "text/plain": [
              "  Sexo  Largo (mm)  ...  Peso caparazón (grs)  N° Anillos\n",
              "0    M       0.350  ...                 0.070           7\n",
              "1    F       0.530  ...                 0.210           9\n",
              "2    M       0.440  ...                 0.155          10\n",
              "3    I       0.330  ...                 0.055           7\n",
              "4    I       0.425  ...                 0.120           8\n",
              "\n",
              "[5 rows x 9 columns]"
            ]
          },
          "metadata": {},
          "execution_count": 351
        }
      ]
    },
    {
      "cell_type": "code",
      "source": [
        "#importamos librerias que necesitaremos \n",
        "from sklearn.neighbors import KNeighborsRegressor\n",
        "from sklearn.model_selection import train_test_split"
      ],
      "metadata": {
        "id": "dA_ir2owCtMm"
      },
      "execution_count": 352,
      "outputs": []
    },
    {
      "cell_type": "markdown",
      "source": [
        "Division de datos entre las variables dependientes y la variable independiente (vector obetivo)"
      ],
      "metadata": {
        "id": "JzQ30itM78zU"
      }
    },
    {
      "cell_type": "code",
      "source": [
        "X = df.drop(['Sexo','N° Anillos'],axis =1) #variables dependientes\n",
        "y = df['N° Anillos'] #variables independientes"
      ],
      "metadata": {
        "id": "2mo-gvRFyqaR"
      },
      "execution_count": 353,
      "outputs": []
    },
    {
      "cell_type": "markdown",
      "source": [
        "Implementación algoritmo KKNN"
      ],
      "metadata": {
        "id": "mwo8uzIGB2Za"
      }
    },
    {
      "cell_type": "markdown",
      "source": [
        "Dividimos los datos en conjuntos de prueba y entrenamiento"
      ],
      "metadata": {
        "id": "p0sG0rZD_jCD"
      }
    },
    {
      "cell_type": "code",
      "source": [
        "X_ent, X_test, y_ent, y_test = train_test_split(X,y,test_size=0.20)"
      ],
      "metadata": {
        "id": "m-dw8XUZIDb7"
      },
      "execution_count": 354,
      "outputs": []
    },
    {
      "cell_type": "markdown",
      "source": [
        "Ajustamos los parámetros knn"
      ],
      "metadata": {
        "id": "jbxBnHEsV0W_"
      }
    },
    {
      "cell_type": "code",
      "source": [
        "knn = KNeighborsRegressor(n_neighbors=10)"
      ],
      "metadata": {
        "id": "GCShTMeBIDUJ"
      },
      "execution_count": 355,
      "outputs": []
    },
    {
      "cell_type": "markdown",
      "source": [
        "Entrenamos el modelo"
      ],
      "metadata": {
        "id": "hcA6K0e6V6wZ"
      }
    },
    {
      "cell_type": "code",
      "source": [
        "knn.fit(X_ent,y_ent)"
      ],
      "metadata": {
        "colab": {
          "base_uri": "https://localhost:8080/"
        },
        "id": "uIJ41mB-KeCJ",
        "outputId": "fee56ea7-d92b-4320-93af-1cd072e6f910"
      },
      "execution_count": 356,
      "outputs": [
        {
          "output_type": "execute_result",
          "data": {
            "text/plain": [
              "KNeighborsRegressor(n_neighbors=10)"
            ]
          },
          "metadata": {},
          "execution_count": 356
        }
      ]
    },
    {
      "cell_type": "markdown",
      "source": [
        "Calificamos nuestro modelo"
      ],
      "metadata": {
        "id": "k5lPf_PFV-8d"
      }
    },
    {
      "cell_type": "code",
      "source": [
        "knn.score(X_test,y_test)"
      ],
      "metadata": {
        "colab": {
          "base_uri": "https://localhost:8080/"
        },
        "id": "EzbwDvu_KWl8",
        "outputId": "71dcccd3-a64f-48e1-d785-cf01d2015d74"
      },
      "execution_count": 357,
      "outputs": [
        {
          "output_type": "execute_result",
          "data": {
            "text/plain": [
              "0.5248813783953927"
            ]
          },
          "metadata": {},
          "execution_count": 357
        }
      ]
    },
    {
      "cell_type": "markdown",
      "source": [
        "El modelo tiene un 52% de probabilidad de acertar el número de anillos de un nuevo dato de abulón."
      ],
      "metadata": {
        "id": "iH2q5tYVKWTK"
      }
    },
    {
      "cell_type": "markdown",
      "source": [
        "**Conclusiones: **\n",
        " - El modelo puede tener una métrica baja porque el algoritmo KNN funciona mejor en bases de datos pequeñas y con un menor número de variables.\n"
      ],
      "metadata": {
        "id": "cTRUEmcMXvH9"
      }
    },
    {
      "cell_type": "markdown",
      "source": [
        "## Tarea N° 2\n",
        "- La segunda tarea es utilizar el conjunto de datos de abulón para predecir el sexo a partir de sus características. "
      ],
      "metadata": {
        "id": "Q7AO71Q8YKBx"
      }
    },
    {
      "cell_type": "code",
      "source": [
        "df.head() #tenemos la df completa"
      ],
      "metadata": {
        "colab": {
          "base_uri": "https://localhost:8080/",
          "height": 206
        },
        "id": "o5FdOhKJX-4Q",
        "outputId": "671e07a3-c611-4c2e-bfb0-a68face5a58b"
      },
      "execution_count": 358,
      "outputs": [
        {
          "output_type": "execute_result",
          "data": {
            "text/html": [
              "\n",
              "  <div id=\"df-b0136e78-fc03-4cfb-94b3-f91a9da36664\">\n",
              "    <div class=\"colab-df-container\">\n",
              "      <div>\n",
              "<style scoped>\n",
              "    .dataframe tbody tr th:only-of-type {\n",
              "        vertical-align: middle;\n",
              "    }\n",
              "\n",
              "    .dataframe tbody tr th {\n",
              "        vertical-align: top;\n",
              "    }\n",
              "\n",
              "    .dataframe thead th {\n",
              "        text-align: right;\n",
              "    }\n",
              "</style>\n",
              "<table border=\"1\" class=\"dataframe\">\n",
              "  <thead>\n",
              "    <tr style=\"text-align: right;\">\n",
              "      <th></th>\n",
              "      <th>Sexo</th>\n",
              "      <th>Largo (mm)</th>\n",
              "      <th>Diámetro (mm)</th>\n",
              "      <th>Ancho (mm)</th>\n",
              "      <th>Peso total (grs)</th>\n",
              "      <th>Peso de carne (grs)</th>\n",
              "      <th>Peso vísceras (grs)</th>\n",
              "      <th>Peso caparazón (grs)</th>\n",
              "      <th>N° Anillos</th>\n",
              "    </tr>\n",
              "  </thead>\n",
              "  <tbody>\n",
              "    <tr>\n",
              "      <th>0</th>\n",
              "      <td>M</td>\n",
              "      <td>0.350</td>\n",
              "      <td>0.265</td>\n",
              "      <td>0.090</td>\n",
              "      <td>0.2255</td>\n",
              "      <td>0.0995</td>\n",
              "      <td>0.0485</td>\n",
              "      <td>0.070</td>\n",
              "      <td>7</td>\n",
              "    </tr>\n",
              "    <tr>\n",
              "      <th>1</th>\n",
              "      <td>F</td>\n",
              "      <td>0.530</td>\n",
              "      <td>0.420</td>\n",
              "      <td>0.135</td>\n",
              "      <td>0.6770</td>\n",
              "      <td>0.2565</td>\n",
              "      <td>0.1415</td>\n",
              "      <td>0.210</td>\n",
              "      <td>9</td>\n",
              "    </tr>\n",
              "    <tr>\n",
              "      <th>2</th>\n",
              "      <td>M</td>\n",
              "      <td>0.440</td>\n",
              "      <td>0.365</td>\n",
              "      <td>0.125</td>\n",
              "      <td>0.5160</td>\n",
              "      <td>0.2155</td>\n",
              "      <td>0.1140</td>\n",
              "      <td>0.155</td>\n",
              "      <td>10</td>\n",
              "    </tr>\n",
              "    <tr>\n",
              "      <th>3</th>\n",
              "      <td>I</td>\n",
              "      <td>0.330</td>\n",
              "      <td>0.255</td>\n",
              "      <td>0.080</td>\n",
              "      <td>0.2050</td>\n",
              "      <td>0.0895</td>\n",
              "      <td>0.0395</td>\n",
              "      <td>0.055</td>\n",
              "      <td>7</td>\n",
              "    </tr>\n",
              "    <tr>\n",
              "      <th>4</th>\n",
              "      <td>I</td>\n",
              "      <td>0.425</td>\n",
              "      <td>0.300</td>\n",
              "      <td>0.095</td>\n",
              "      <td>0.3515</td>\n",
              "      <td>0.1410</td>\n",
              "      <td>0.0775</td>\n",
              "      <td>0.120</td>\n",
              "      <td>8</td>\n",
              "    </tr>\n",
              "  </tbody>\n",
              "</table>\n",
              "</div>\n",
              "      <button class=\"colab-df-convert\" onclick=\"convertToInteractive('df-b0136e78-fc03-4cfb-94b3-f91a9da36664')\"\n",
              "              title=\"Convert this dataframe to an interactive table.\"\n",
              "              style=\"display:none;\">\n",
              "        \n",
              "  <svg xmlns=\"http://www.w3.org/2000/svg\" height=\"24px\"viewBox=\"0 0 24 24\"\n",
              "       width=\"24px\">\n",
              "    <path d=\"M0 0h24v24H0V0z\" fill=\"none\"/>\n",
              "    <path d=\"M18.56 5.44l.94 2.06.94-2.06 2.06-.94-2.06-.94-.94-2.06-.94 2.06-2.06.94zm-11 1L8.5 8.5l.94-2.06 2.06-.94-2.06-.94L8.5 2.5l-.94 2.06-2.06.94zm10 10l.94 2.06.94-2.06 2.06-.94-2.06-.94-.94-2.06-.94 2.06-2.06.94z\"/><path d=\"M17.41 7.96l-1.37-1.37c-.4-.4-.92-.59-1.43-.59-.52 0-1.04.2-1.43.59L10.3 9.45l-7.72 7.72c-.78.78-.78 2.05 0 2.83L4 21.41c.39.39.9.59 1.41.59.51 0 1.02-.2 1.41-.59l7.78-7.78 2.81-2.81c.8-.78.8-2.07 0-2.86zM5.41 20L4 18.59l7.72-7.72 1.47 1.35L5.41 20z\"/>\n",
              "  </svg>\n",
              "      </button>\n",
              "      \n",
              "  <style>\n",
              "    .colab-df-container {\n",
              "      display:flex;\n",
              "      flex-wrap:wrap;\n",
              "      gap: 12px;\n",
              "    }\n",
              "\n",
              "    .colab-df-convert {\n",
              "      background-color: #E8F0FE;\n",
              "      border: none;\n",
              "      border-radius: 50%;\n",
              "      cursor: pointer;\n",
              "      display: none;\n",
              "      fill: #1967D2;\n",
              "      height: 32px;\n",
              "      padding: 0 0 0 0;\n",
              "      width: 32px;\n",
              "    }\n",
              "\n",
              "    .colab-df-convert:hover {\n",
              "      background-color: #E2EBFA;\n",
              "      box-shadow: 0px 1px 2px rgba(60, 64, 67, 0.3), 0px 1px 3px 1px rgba(60, 64, 67, 0.15);\n",
              "      fill: #174EA6;\n",
              "    }\n",
              "\n",
              "    [theme=dark] .colab-df-convert {\n",
              "      background-color: #3B4455;\n",
              "      fill: #D2E3FC;\n",
              "    }\n",
              "\n",
              "    [theme=dark] .colab-df-convert:hover {\n",
              "      background-color: #434B5C;\n",
              "      box-shadow: 0px 1px 3px 1px rgba(0, 0, 0, 0.15);\n",
              "      filter: drop-shadow(0px 1px 2px rgba(0, 0, 0, 0.3));\n",
              "      fill: #FFFFFF;\n",
              "    }\n",
              "  </style>\n",
              "\n",
              "      <script>\n",
              "        const buttonEl =\n",
              "          document.querySelector('#df-b0136e78-fc03-4cfb-94b3-f91a9da36664 button.colab-df-convert');\n",
              "        buttonEl.style.display =\n",
              "          google.colab.kernel.accessAllowed ? 'block' : 'none';\n",
              "\n",
              "        async function convertToInteractive(key) {\n",
              "          const element = document.querySelector('#df-b0136e78-fc03-4cfb-94b3-f91a9da36664');\n",
              "          const dataTable =\n",
              "            await google.colab.kernel.invokeFunction('convertToInteractive',\n",
              "                                                     [key], {});\n",
              "          if (!dataTable) return;\n",
              "\n",
              "          const docLinkHtml = 'Like what you see? Visit the ' +\n",
              "            '<a target=\"_blank\" href=https://colab.research.google.com/notebooks/data_table.ipynb>data table notebook</a>'\n",
              "            + ' to learn more about interactive tables.';\n",
              "          element.innerHTML = '';\n",
              "          dataTable['output_type'] = 'display_data';\n",
              "          await google.colab.output.renderOutput(dataTable, element);\n",
              "          const docLink = document.createElement('div');\n",
              "          docLink.innerHTML = docLinkHtml;\n",
              "          element.appendChild(docLink);\n",
              "        }\n",
              "      </script>\n",
              "    </div>\n",
              "  </div>\n",
              "  "
            ],
            "text/plain": [
              "  Sexo  Largo (mm)  ...  Peso caparazón (grs)  N° Anillos\n",
              "0    M       0.350  ...                 0.070           7\n",
              "1    F       0.530  ...                 0.210           9\n",
              "2    M       0.440  ...                 0.155          10\n",
              "3    I       0.330  ...                 0.055           7\n",
              "4    I       0.425  ...                 0.120           8\n",
              "\n",
              "[5 rows x 9 columns]"
            ]
          },
          "metadata": {},
          "execution_count": 358
        }
      ]
    },
    {
      "cell_type": "markdown",
      "source": [
        "Observamos que datos hay en la variable sexo"
      ],
      "metadata": {
        "id": "uZYZT-0mYVVL"
      }
    },
    {
      "cell_type": "code",
      "source": [
        "df[\"Sexo\"].unique() #hay 3 variables"
      ],
      "metadata": {
        "colab": {
          "base_uri": "https://localhost:8080/"
        },
        "id": "UBFl4HFWePD2",
        "outputId": "a2616641-bd60-44ee-e753-a4ce7d2e620b"
      },
      "execution_count": 359,
      "outputs": [
        {
          "output_type": "execute_result",
          "data": {
            "text/plain": [
              "array(['M', 'F', 'I'], dtype=object)"
            ]
          },
          "metadata": {},
          "execution_count": 359
        }
      ]
    },
    {
      "cell_type": "markdown",
      "source": [
        "En el documento guía expone que el valor de 'I' se refiere a infantes.\n",
        "\n",
        "![Sin título23.png](data:image/png;base64,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)\n",
        "\n",
        "Por lo que se procederá a retirar los valores de 'I' en cada fila porque no representan algún sexo. "
      ],
      "metadata": {
        "id": "NL-PveumeWno"
      }
    },
    {
      "cell_type": "code",
      "source": [
        "#creamos un filtro \n",
        "infant_filter = df[\"Sexo\"] != 'I'\n",
        "\n",
        "#y lo aplicamos para crear una nueva df\n",
        "df2 = df #creamos una nueva df para que no afecten los datos del anterior trabajo\n",
        "df2 = df2.loc[infant_filter,:]"
      ],
      "metadata": {
        "id": "5OvkYDM4YRsI"
      },
      "execution_count": 360,
      "outputs": []
    },
    {
      "cell_type": "code",
      "source": [
        "df2.head()"
      ],
      "metadata": {
        "colab": {
          "base_uri": "https://localhost:8080/",
          "height": 206
        },
        "id": "vASQQzyoZSzo",
        "outputId": "ebab0211-60a6-429a-c5af-fff56f19c8ed"
      },
      "execution_count": 361,
      "outputs": [
        {
          "output_type": "execute_result",
          "data": {
            "text/html": [
              "\n",
              "  <div id=\"df-9dc7943b-b0b3-4bdf-851a-e78d5704f8a1\">\n",
              "    <div class=\"colab-df-container\">\n",
              "      <div>\n",
              "<style scoped>\n",
              "    .dataframe tbody tr th:only-of-type {\n",
              "        vertical-align: middle;\n",
              "    }\n",
              "\n",
              "    .dataframe tbody tr th {\n",
              "        vertical-align: top;\n",
              "    }\n",
              "\n",
              "    .dataframe thead th {\n",
              "        text-align: right;\n",
              "    }\n",
              "</style>\n",
              "<table border=\"1\" class=\"dataframe\">\n",
              "  <thead>\n",
              "    <tr style=\"text-align: right;\">\n",
              "      <th></th>\n",
              "      <th>Sexo</th>\n",
              "      <th>Largo (mm)</th>\n",
              "      <th>Diámetro (mm)</th>\n",
              "      <th>Ancho (mm)</th>\n",
              "      <th>Peso total (grs)</th>\n",
              "      <th>Peso de carne (grs)</th>\n",
              "      <th>Peso vísceras (grs)</th>\n",
              "      <th>Peso caparazón (grs)</th>\n",
              "      <th>N° Anillos</th>\n",
              "    </tr>\n",
              "  </thead>\n",
              "  <tbody>\n",
              "    <tr>\n",
              "      <th>0</th>\n",
              "      <td>M</td>\n",
              "      <td>0.350</td>\n",
              "      <td>0.265</td>\n",
              "      <td>0.090</td>\n",
              "      <td>0.2255</td>\n",
              "      <td>0.0995</td>\n",
              "      <td>0.0485</td>\n",
              "      <td>0.070</td>\n",
              "      <td>7</td>\n",
              "    </tr>\n",
              "    <tr>\n",
              "      <th>1</th>\n",
              "      <td>F</td>\n",
              "      <td>0.530</td>\n",
              "      <td>0.420</td>\n",
              "      <td>0.135</td>\n",
              "      <td>0.6770</td>\n",
              "      <td>0.2565</td>\n",
              "      <td>0.1415</td>\n",
              "      <td>0.210</td>\n",
              "      <td>9</td>\n",
              "    </tr>\n",
              "    <tr>\n",
              "      <th>2</th>\n",
              "      <td>M</td>\n",
              "      <td>0.440</td>\n",
              "      <td>0.365</td>\n",
              "      <td>0.125</td>\n",
              "      <td>0.5160</td>\n",
              "      <td>0.2155</td>\n",
              "      <td>0.1140</td>\n",
              "      <td>0.155</td>\n",
              "      <td>10</td>\n",
              "    </tr>\n",
              "    <tr>\n",
              "      <th>5</th>\n",
              "      <td>F</td>\n",
              "      <td>0.530</td>\n",
              "      <td>0.415</td>\n",
              "      <td>0.150</td>\n",
              "      <td>0.7775</td>\n",
              "      <td>0.2370</td>\n",
              "      <td>0.1415</td>\n",
              "      <td>0.330</td>\n",
              "      <td>20</td>\n",
              "    </tr>\n",
              "    <tr>\n",
              "      <th>6</th>\n",
              "      <td>F</td>\n",
              "      <td>0.545</td>\n",
              "      <td>0.425</td>\n",
              "      <td>0.125</td>\n",
              "      <td>0.7680</td>\n",
              "      <td>0.2940</td>\n",
              "      <td>0.1495</td>\n",
              "      <td>0.260</td>\n",
              "      <td>16</td>\n",
              "    </tr>\n",
              "  </tbody>\n",
              "</table>\n",
              "</div>\n",
              "      <button class=\"colab-df-convert\" onclick=\"convertToInteractive('df-9dc7943b-b0b3-4bdf-851a-e78d5704f8a1')\"\n",
              "              title=\"Convert this dataframe to an interactive table.\"\n",
              "              style=\"display:none;\">\n",
              "        \n",
              "  <svg xmlns=\"http://www.w3.org/2000/svg\" height=\"24px\"viewBox=\"0 0 24 24\"\n",
              "       width=\"24px\">\n",
              "    <path d=\"M0 0h24v24H0V0z\" fill=\"none\"/>\n",
              "    <path d=\"M18.56 5.44l.94 2.06.94-2.06 2.06-.94-2.06-.94-.94-2.06-.94 2.06-2.06.94zm-11 1L8.5 8.5l.94-2.06 2.06-.94-2.06-.94L8.5 2.5l-.94 2.06-2.06.94zm10 10l.94 2.06.94-2.06 2.06-.94-2.06-.94-.94-2.06-.94 2.06-2.06.94z\"/><path d=\"M17.41 7.96l-1.37-1.37c-.4-.4-.92-.59-1.43-.59-.52 0-1.04.2-1.43.59L10.3 9.45l-7.72 7.72c-.78.78-.78 2.05 0 2.83L4 21.41c.39.39.9.59 1.41.59.51 0 1.02-.2 1.41-.59l7.78-7.78 2.81-2.81c.8-.78.8-2.07 0-2.86zM5.41 20L4 18.59l7.72-7.72 1.47 1.35L5.41 20z\"/>\n",
              "  </svg>\n",
              "      </button>\n",
              "      \n",
              "  <style>\n",
              "    .colab-df-container {\n",
              "      display:flex;\n",
              "      flex-wrap:wrap;\n",
              "      gap: 12px;\n",
              "    }\n",
              "\n",
              "    .colab-df-convert {\n",
              "      background-color: #E8F0FE;\n",
              "      border: none;\n",
              "      border-radius: 50%;\n",
              "      cursor: pointer;\n",
              "      display: none;\n",
              "      fill: #1967D2;\n",
              "      height: 32px;\n",
              "      padding: 0 0 0 0;\n",
              "      width: 32px;\n",
              "    }\n",
              "\n",
              "    .colab-df-convert:hover {\n",
              "      background-color: #E2EBFA;\n",
              "      box-shadow: 0px 1px 2px rgba(60, 64, 67, 0.3), 0px 1px 3px 1px rgba(60, 64, 67, 0.15);\n",
              "      fill: #174EA6;\n",
              "    }\n",
              "\n",
              "    [theme=dark] .colab-df-convert {\n",
              "      background-color: #3B4455;\n",
              "      fill: #D2E3FC;\n",
              "    }\n",
              "\n",
              "    [theme=dark] .colab-df-convert:hover {\n",
              "      background-color: #434B5C;\n",
              "      box-shadow: 0px 1px 3px 1px rgba(0, 0, 0, 0.15);\n",
              "      filter: drop-shadow(0px 1px 2px rgba(0, 0, 0, 0.3));\n",
              "      fill: #FFFFFF;\n",
              "    }\n",
              "  </style>\n",
              "\n",
              "      <script>\n",
              "        const buttonEl =\n",
              "          document.querySelector('#df-9dc7943b-b0b3-4bdf-851a-e78d5704f8a1 button.colab-df-convert');\n",
              "        buttonEl.style.display =\n",
              "          google.colab.kernel.accessAllowed ? 'block' : 'none';\n",
              "\n",
              "        async function convertToInteractive(key) {\n",
              "          const element = document.querySelector('#df-9dc7943b-b0b3-4bdf-851a-e78d5704f8a1');\n",
              "          const dataTable =\n",
              "            await google.colab.kernel.invokeFunction('convertToInteractive',\n",
              "                                                     [key], {});\n",
              "          if (!dataTable) return;\n",
              "\n",
              "          const docLinkHtml = 'Like what you see? Visit the ' +\n",
              "            '<a target=\"_blank\" href=https://colab.research.google.com/notebooks/data_table.ipynb>data table notebook</a>'\n",
              "            + ' to learn more about interactive tables.';\n",
              "          element.innerHTML = '';\n",
              "          dataTable['output_type'] = 'display_data';\n",
              "          await google.colab.output.renderOutput(dataTable, element);\n",
              "          const docLink = document.createElement('div');\n",
              "          docLink.innerHTML = docLinkHtml;\n",
              "          element.appendChild(docLink);\n",
              "        }\n",
              "      </script>\n",
              "    </div>\n",
              "  </div>\n",
              "  "
            ],
            "text/plain": [
              "  Sexo  Largo (mm)  ...  Peso caparazón (grs)  N° Anillos\n",
              "0    M       0.350  ...                 0.070           7\n",
              "1    F       0.530  ...                 0.210           9\n",
              "2    M       0.440  ...                 0.155          10\n",
              "5    F       0.530  ...                 0.330          20\n",
              "6    F       0.545  ...                 0.260          16\n",
              "\n",
              "[5 rows x 9 columns]"
            ]
          },
          "metadata": {},
          "execution_count": 361
        }
      ]
    },
    {
      "cell_type": "markdown",
      "source": [
        "Ahora crearemos variables dummies para representar las variables \"Sexo\" pero en forma numérica para que sea más interpretable para nuestro algoritmo KNN"
      ],
      "metadata": {
        "id": "9ND0eCblffeV"
      }
    },
    {
      "cell_type": "code",
      "source": [
        "df2 = pd.get_dummies(df2,columns=[\"Sexo\"], drop_first = True)"
      ],
      "metadata": {
        "id": "iX_eYLMBdaIJ"
      },
      "execution_count": 362,
      "outputs": []
    },
    {
      "cell_type": "code",
      "source": [
        "df2.head()"
      ],
      "metadata": {
        "colab": {
          "base_uri": "https://localhost:8080/",
          "height": 206
        },
        "id": "GNLLBB-5gXpp",
        "outputId": "3ef2ac31-6283-4462-8d03-28b4248b3ac8"
      },
      "execution_count": 363,
      "outputs": [
        {
          "output_type": "execute_result",
          "data": {
            "text/html": [
              "\n",
              "  <div id=\"df-a2da2475-bba0-4862-a346-9527bc50aabe\">\n",
              "    <div class=\"colab-df-container\">\n",
              "      <div>\n",
              "<style scoped>\n",
              "    .dataframe tbody tr th:only-of-type {\n",
              "        vertical-align: middle;\n",
              "    }\n",
              "\n",
              "    .dataframe tbody tr th {\n",
              "        vertical-align: top;\n",
              "    }\n",
              "\n",
              "    .dataframe thead th {\n",
              "        text-align: right;\n",
              "    }\n",
              "</style>\n",
              "<table border=\"1\" class=\"dataframe\">\n",
              "  <thead>\n",
              "    <tr style=\"text-align: right;\">\n",
              "      <th></th>\n",
              "      <th>Largo (mm)</th>\n",
              "      <th>Diámetro (mm)</th>\n",
              "      <th>Ancho (mm)</th>\n",
              "      <th>Peso total (grs)</th>\n",
              "      <th>Peso de carne (grs)</th>\n",
              "      <th>Peso vísceras (grs)</th>\n",
              "      <th>Peso caparazón (grs)</th>\n",
              "      <th>N° Anillos</th>\n",
              "      <th>Sexo_M</th>\n",
              "    </tr>\n",
              "  </thead>\n",
              "  <tbody>\n",
              "    <tr>\n",
              "      <th>0</th>\n",
              "      <td>0.350</td>\n",
              "      <td>0.265</td>\n",
              "      <td>0.090</td>\n",
              "      <td>0.2255</td>\n",
              "      <td>0.0995</td>\n",
              "      <td>0.0485</td>\n",
              "      <td>0.070</td>\n",
              "      <td>7</td>\n",
              "      <td>1</td>\n",
              "    </tr>\n",
              "    <tr>\n",
              "      <th>1</th>\n",
              "      <td>0.530</td>\n",
              "      <td>0.420</td>\n",
              "      <td>0.135</td>\n",
              "      <td>0.6770</td>\n",
              "      <td>0.2565</td>\n",
              "      <td>0.1415</td>\n",
              "      <td>0.210</td>\n",
              "      <td>9</td>\n",
              "      <td>0</td>\n",
              "    </tr>\n",
              "    <tr>\n",
              "      <th>2</th>\n",
              "      <td>0.440</td>\n",
              "      <td>0.365</td>\n",
              "      <td>0.125</td>\n",
              "      <td>0.5160</td>\n",
              "      <td>0.2155</td>\n",
              "      <td>0.1140</td>\n",
              "      <td>0.155</td>\n",
              "      <td>10</td>\n",
              "      <td>1</td>\n",
              "    </tr>\n",
              "    <tr>\n",
              "      <th>5</th>\n",
              "      <td>0.530</td>\n",
              "      <td>0.415</td>\n",
              "      <td>0.150</td>\n",
              "      <td>0.7775</td>\n",
              "      <td>0.2370</td>\n",
              "      <td>0.1415</td>\n",
              "      <td>0.330</td>\n",
              "      <td>20</td>\n",
              "      <td>0</td>\n",
              "    </tr>\n",
              "    <tr>\n",
              "      <th>6</th>\n",
              "      <td>0.545</td>\n",
              "      <td>0.425</td>\n",
              "      <td>0.125</td>\n",
              "      <td>0.7680</td>\n",
              "      <td>0.2940</td>\n",
              "      <td>0.1495</td>\n",
              "      <td>0.260</td>\n",
              "      <td>16</td>\n",
              "      <td>0</td>\n",
              "    </tr>\n",
              "  </tbody>\n",
              "</table>\n",
              "</div>\n",
              "      <button class=\"colab-df-convert\" onclick=\"convertToInteractive('df-a2da2475-bba0-4862-a346-9527bc50aabe')\"\n",
              "              title=\"Convert this dataframe to an interactive table.\"\n",
              "              style=\"display:none;\">\n",
              "        \n",
              "  <svg xmlns=\"http://www.w3.org/2000/svg\" height=\"24px\"viewBox=\"0 0 24 24\"\n",
              "       width=\"24px\">\n",
              "    <path d=\"M0 0h24v24H0V0z\" fill=\"none\"/>\n",
              "    <path d=\"M18.56 5.44l.94 2.06.94-2.06 2.06-.94-2.06-.94-.94-2.06-.94 2.06-2.06.94zm-11 1L8.5 8.5l.94-2.06 2.06-.94-2.06-.94L8.5 2.5l-.94 2.06-2.06.94zm10 10l.94 2.06.94-2.06 2.06-.94-2.06-.94-.94-2.06-.94 2.06-2.06.94z\"/><path d=\"M17.41 7.96l-1.37-1.37c-.4-.4-.92-.59-1.43-.59-.52 0-1.04.2-1.43.59L10.3 9.45l-7.72 7.72c-.78.78-.78 2.05 0 2.83L4 21.41c.39.39.9.59 1.41.59.51 0 1.02-.2 1.41-.59l7.78-7.78 2.81-2.81c.8-.78.8-2.07 0-2.86zM5.41 20L4 18.59l7.72-7.72 1.47 1.35L5.41 20z\"/>\n",
              "  </svg>\n",
              "      </button>\n",
              "      \n",
              "  <style>\n",
              "    .colab-df-container {\n",
              "      display:flex;\n",
              "      flex-wrap:wrap;\n",
              "      gap: 12px;\n",
              "    }\n",
              "\n",
              "    .colab-df-convert {\n",
              "      background-color: #E8F0FE;\n",
              "      border: none;\n",
              "      border-radius: 50%;\n",
              "      cursor: pointer;\n",
              "      display: none;\n",
              "      fill: #1967D2;\n",
              "      height: 32px;\n",
              "      padding: 0 0 0 0;\n",
              "      width: 32px;\n",
              "    }\n",
              "\n",
              "    .colab-df-convert:hover {\n",
              "      background-color: #E2EBFA;\n",
              "      box-shadow: 0px 1px 2px rgba(60, 64, 67, 0.3), 0px 1px 3px 1px rgba(60, 64, 67, 0.15);\n",
              "      fill: #174EA6;\n",
              "    }\n",
              "\n",
              "    [theme=dark] .colab-df-convert {\n",
              "      background-color: #3B4455;\n",
              "      fill: #D2E3FC;\n",
              "    }\n",
              "\n",
              "    [theme=dark] .colab-df-convert:hover {\n",
              "      background-color: #434B5C;\n",
              "      box-shadow: 0px 1px 3px 1px rgba(0, 0, 0, 0.15);\n",
              "      filter: drop-shadow(0px 1px 2px rgba(0, 0, 0, 0.3));\n",
              "      fill: #FFFFFF;\n",
              "    }\n",
              "  </style>\n",
              "\n",
              "      <script>\n",
              "        const buttonEl =\n",
              "          document.querySelector('#df-a2da2475-bba0-4862-a346-9527bc50aabe button.colab-df-convert');\n",
              "        buttonEl.style.display =\n",
              "          google.colab.kernel.accessAllowed ? 'block' : 'none';\n",
              "\n",
              "        async function convertToInteractive(key) {\n",
              "          const element = document.querySelector('#df-a2da2475-bba0-4862-a346-9527bc50aabe');\n",
              "          const dataTable =\n",
              "            await google.colab.kernel.invokeFunction('convertToInteractive',\n",
              "                                                     [key], {});\n",
              "          if (!dataTable) return;\n",
              "\n",
              "          const docLinkHtml = 'Like what you see? Visit the ' +\n",
              "            '<a target=\"_blank\" href=https://colab.research.google.com/notebooks/data_table.ipynb>data table notebook</a>'\n",
              "            + ' to learn more about interactive tables.';\n",
              "          element.innerHTML = '';\n",
              "          dataTable['output_type'] = 'display_data';\n",
              "          await google.colab.output.renderOutput(dataTable, element);\n",
              "          const docLink = document.createElement('div');\n",
              "          docLink.innerHTML = docLinkHtml;\n",
              "          element.appendChild(docLink);\n",
              "        }\n",
              "      </script>\n",
              "    </div>\n",
              "  </div>\n",
              "  "
            ],
            "text/plain": [
              "   Largo (mm)  Diámetro (mm)  ...  N° Anillos  Sexo_M\n",
              "0       0.350          0.265  ...           7       1\n",
              "1       0.530          0.420  ...           9       0\n",
              "2       0.440          0.365  ...          10       1\n",
              "5       0.530          0.415  ...          20       0\n",
              "6       0.545          0.425  ...          16       0\n",
              "\n",
              "[5 rows x 9 columns]"
            ]
          },
          "metadata": {},
          "execution_count": 363
        }
      ]
    },
    {
      "cell_type": "markdown",
      "source": [
        "Ahora en nuestro df el Sexo es:\n",
        "  - '1' Para sexo femenino \n",
        "  - '0' Para sexo masculino"
      ],
      "metadata": {
        "id": "nSwEVbasgaxr"
      }
    },
    {
      "cell_type": "code",
      "source": [
        "#cambiamos el nombre de la columna\n",
        "df2 = df2.rename(columns={'Sexo_M':'Sexo'})             "
      ],
      "metadata": {
        "id": "Qvaqi9HpgYuu"
      },
      "execution_count": 364,
      "outputs": []
    },
    {
      "cell_type": "code",
      "source": [
        "df2.head()"
      ],
      "metadata": {
        "colab": {
          "base_uri": "https://localhost:8080/",
          "height": 206
        },
        "id": "h_psyE1yg_sV",
        "outputId": "66bb82a1-1952-47bb-b701-9f76467b69c3"
      },
      "execution_count": 365,
      "outputs": [
        {
          "output_type": "execute_result",
          "data": {
            "text/html": [
              "\n",
              "  <div id=\"df-3cf1c8b5-783b-4679-b81a-fa22a6d5426c\">\n",
              "    <div class=\"colab-df-container\">\n",
              "      <div>\n",
              "<style scoped>\n",
              "    .dataframe tbody tr th:only-of-type {\n",
              "        vertical-align: middle;\n",
              "    }\n",
              "\n",
              "    .dataframe tbody tr th {\n",
              "        vertical-align: top;\n",
              "    }\n",
              "\n",
              "    .dataframe thead th {\n",
              "        text-align: right;\n",
              "    }\n",
              "</style>\n",
              "<table border=\"1\" class=\"dataframe\">\n",
              "  <thead>\n",
              "    <tr style=\"text-align: right;\">\n",
              "      <th></th>\n",
              "      <th>Largo (mm)</th>\n",
              "      <th>Diámetro (mm)</th>\n",
              "      <th>Ancho (mm)</th>\n",
              "      <th>Peso total (grs)</th>\n",
              "      <th>Peso de carne (grs)</th>\n",
              "      <th>Peso vísceras (grs)</th>\n",
              "      <th>Peso caparazón (grs)</th>\n",
              "      <th>N° Anillos</th>\n",
              "      <th>Sexo</th>\n",
              "    </tr>\n",
              "  </thead>\n",
              "  <tbody>\n",
              "    <tr>\n",
              "      <th>0</th>\n",
              "      <td>0.350</td>\n",
              "      <td>0.265</td>\n",
              "      <td>0.090</td>\n",
              "      <td>0.2255</td>\n",
              "      <td>0.0995</td>\n",
              "      <td>0.0485</td>\n",
              "      <td>0.070</td>\n",
              "      <td>7</td>\n",
              "      <td>1</td>\n",
              "    </tr>\n",
              "    <tr>\n",
              "      <th>1</th>\n",
              "      <td>0.530</td>\n",
              "      <td>0.420</td>\n",
              "      <td>0.135</td>\n",
              "      <td>0.6770</td>\n",
              "      <td>0.2565</td>\n",
              "      <td>0.1415</td>\n",
              "      <td>0.210</td>\n",
              "      <td>9</td>\n",
              "      <td>0</td>\n",
              "    </tr>\n",
              "    <tr>\n",
              "      <th>2</th>\n",
              "      <td>0.440</td>\n",
              "      <td>0.365</td>\n",
              "      <td>0.125</td>\n",
              "      <td>0.5160</td>\n",
              "      <td>0.2155</td>\n",
              "      <td>0.1140</td>\n",
              "      <td>0.155</td>\n",
              "      <td>10</td>\n",
              "      <td>1</td>\n",
              "    </tr>\n",
              "    <tr>\n",
              "      <th>5</th>\n",
              "      <td>0.530</td>\n",
              "      <td>0.415</td>\n",
              "      <td>0.150</td>\n",
              "      <td>0.7775</td>\n",
              "      <td>0.2370</td>\n",
              "      <td>0.1415</td>\n",
              "      <td>0.330</td>\n",
              "      <td>20</td>\n",
              "      <td>0</td>\n",
              "    </tr>\n",
              "    <tr>\n",
              "      <th>6</th>\n",
              "      <td>0.545</td>\n",
              "      <td>0.425</td>\n",
              "      <td>0.125</td>\n",
              "      <td>0.7680</td>\n",
              "      <td>0.2940</td>\n",
              "      <td>0.1495</td>\n",
              "      <td>0.260</td>\n",
              "      <td>16</td>\n",
              "      <td>0</td>\n",
              "    </tr>\n",
              "  </tbody>\n",
              "</table>\n",
              "</div>\n",
              "      <button class=\"colab-df-convert\" onclick=\"convertToInteractive('df-3cf1c8b5-783b-4679-b81a-fa22a6d5426c')\"\n",
              "              title=\"Convert this dataframe to an interactive table.\"\n",
              "              style=\"display:none;\">\n",
              "        \n",
              "  <svg xmlns=\"http://www.w3.org/2000/svg\" height=\"24px\"viewBox=\"0 0 24 24\"\n",
              "       width=\"24px\">\n",
              "    <path d=\"M0 0h24v24H0V0z\" fill=\"none\"/>\n",
              "    <path d=\"M18.56 5.44l.94 2.06.94-2.06 2.06-.94-2.06-.94-.94-2.06-.94 2.06-2.06.94zm-11 1L8.5 8.5l.94-2.06 2.06-.94-2.06-.94L8.5 2.5l-.94 2.06-2.06.94zm10 10l.94 2.06.94-2.06 2.06-.94-2.06-.94-.94-2.06-.94 2.06-2.06.94z\"/><path d=\"M17.41 7.96l-1.37-1.37c-.4-.4-.92-.59-1.43-.59-.52 0-1.04.2-1.43.59L10.3 9.45l-7.72 7.72c-.78.78-.78 2.05 0 2.83L4 21.41c.39.39.9.59 1.41.59.51 0 1.02-.2 1.41-.59l7.78-7.78 2.81-2.81c.8-.78.8-2.07 0-2.86zM5.41 20L4 18.59l7.72-7.72 1.47 1.35L5.41 20z\"/>\n",
              "  </svg>\n",
              "      </button>\n",
              "      \n",
              "  <style>\n",
              "    .colab-df-container {\n",
              "      display:flex;\n",
              "      flex-wrap:wrap;\n",
              "      gap: 12px;\n",
              "    }\n",
              "\n",
              "    .colab-df-convert {\n",
              "      background-color: #E8F0FE;\n",
              "      border: none;\n",
              "      border-radius: 50%;\n",
              "      cursor: pointer;\n",
              "      display: none;\n",
              "      fill: #1967D2;\n",
              "      height: 32px;\n",
              "      padding: 0 0 0 0;\n",
              "      width: 32px;\n",
              "    }\n",
              "\n",
              "    .colab-df-convert:hover {\n",
              "      background-color: #E2EBFA;\n",
              "      box-shadow: 0px 1px 2px rgba(60, 64, 67, 0.3), 0px 1px 3px 1px rgba(60, 64, 67, 0.15);\n",
              "      fill: #174EA6;\n",
              "    }\n",
              "\n",
              "    [theme=dark] .colab-df-convert {\n",
              "      background-color: #3B4455;\n",
              "      fill: #D2E3FC;\n",
              "    }\n",
              "\n",
              "    [theme=dark] .colab-df-convert:hover {\n",
              "      background-color: #434B5C;\n",
              "      box-shadow: 0px 1px 3px 1px rgba(0, 0, 0, 0.15);\n",
              "      filter: drop-shadow(0px 1px 2px rgba(0, 0, 0, 0.3));\n",
              "      fill: #FFFFFF;\n",
              "    }\n",
              "  </style>\n",
              "\n",
              "      <script>\n",
              "        const buttonEl =\n",
              "          document.querySelector('#df-3cf1c8b5-783b-4679-b81a-fa22a6d5426c button.colab-df-convert');\n",
              "        buttonEl.style.display =\n",
              "          google.colab.kernel.accessAllowed ? 'block' : 'none';\n",
              "\n",
              "        async function convertToInteractive(key) {\n",
              "          const element = document.querySelector('#df-3cf1c8b5-783b-4679-b81a-fa22a6d5426c');\n",
              "          const dataTable =\n",
              "            await google.colab.kernel.invokeFunction('convertToInteractive',\n",
              "                                                     [key], {});\n",
              "          if (!dataTable) return;\n",
              "\n",
              "          const docLinkHtml = 'Like what you see? Visit the ' +\n",
              "            '<a target=\"_blank\" href=https://colab.research.google.com/notebooks/data_table.ipynb>data table notebook</a>'\n",
              "            + ' to learn more about interactive tables.';\n",
              "          element.innerHTML = '';\n",
              "          dataTable['output_type'] = 'display_data';\n",
              "          await google.colab.output.renderOutput(dataTable, element);\n",
              "          const docLink = document.createElement('div');\n",
              "          docLink.innerHTML = docLinkHtml;\n",
              "          element.appendChild(docLink);\n",
              "        }\n",
              "      </script>\n",
              "    </div>\n",
              "  </div>\n",
              "  "
            ],
            "text/plain": [
              "   Largo (mm)  Diámetro (mm)  ...  N° Anillos  Sexo\n",
              "0       0.350          0.265  ...           7     1\n",
              "1       0.530          0.420  ...           9     0\n",
              "2       0.440          0.365  ...          10     1\n",
              "5       0.530          0.415  ...          20     0\n",
              "6       0.545          0.425  ...          16     0\n",
              "\n",
              "[5 rows x 9 columns]"
            ]
          },
          "metadata": {},
          "execution_count": 365
        }
      ]
    },
    {
      "cell_type": "markdown",
      "source": [
        "Ahora si podemos proceder a implementar el algoritmo KNN"
      ],
      "metadata": {
        "id": "5MD_KRqghHew"
      }
    },
    {
      "cell_type": "markdown",
      "source": [
        "Elegimos nuestras variables dependientes (X) y la variable independiente (y)"
      ],
      "metadata": {
        "id": "3N5qWvp6hmcx"
      }
    },
    {
      "cell_type": "code",
      "source": [
        "X = df2.drop(columns=('Sexo'))\n",
        "X.head()"
      ],
      "metadata": {
        "colab": {
          "base_uri": "https://localhost:8080/",
          "height": 206
        },
        "id": "FT-h0AhHhErO",
        "outputId": "31fc6f24-aaa1-43eb-d972-99d1e2837ee8"
      },
      "execution_count": 366,
      "outputs": [
        {
          "output_type": "execute_result",
          "data": {
            "text/html": [
              "\n",
              "  <div id=\"df-459da4b9-a1f2-4e33-b9d0-0a1a2001b1ed\">\n",
              "    <div class=\"colab-df-container\">\n",
              "      <div>\n",
              "<style scoped>\n",
              "    .dataframe tbody tr th:only-of-type {\n",
              "        vertical-align: middle;\n",
              "    }\n",
              "\n",
              "    .dataframe tbody tr th {\n",
              "        vertical-align: top;\n",
              "    }\n",
              "\n",
              "    .dataframe thead th {\n",
              "        text-align: right;\n",
              "    }\n",
              "</style>\n",
              "<table border=\"1\" class=\"dataframe\">\n",
              "  <thead>\n",
              "    <tr style=\"text-align: right;\">\n",
              "      <th></th>\n",
              "      <th>Largo (mm)</th>\n",
              "      <th>Diámetro (mm)</th>\n",
              "      <th>Ancho (mm)</th>\n",
              "      <th>Peso total (grs)</th>\n",
              "      <th>Peso de carne (grs)</th>\n",
              "      <th>Peso vísceras (grs)</th>\n",
              "      <th>Peso caparazón (grs)</th>\n",
              "      <th>N° Anillos</th>\n",
              "    </tr>\n",
              "  </thead>\n",
              "  <tbody>\n",
              "    <tr>\n",
              "      <th>0</th>\n",
              "      <td>0.350</td>\n",
              "      <td>0.265</td>\n",
              "      <td>0.090</td>\n",
              "      <td>0.2255</td>\n",
              "      <td>0.0995</td>\n",
              "      <td>0.0485</td>\n",
              "      <td>0.070</td>\n",
              "      <td>7</td>\n",
              "    </tr>\n",
              "    <tr>\n",
              "      <th>1</th>\n",
              "      <td>0.530</td>\n",
              "      <td>0.420</td>\n",
              "      <td>0.135</td>\n",
              "      <td>0.6770</td>\n",
              "      <td>0.2565</td>\n",
              "      <td>0.1415</td>\n",
              "      <td>0.210</td>\n",
              "      <td>9</td>\n",
              "    </tr>\n",
              "    <tr>\n",
              "      <th>2</th>\n",
              "      <td>0.440</td>\n",
              "      <td>0.365</td>\n",
              "      <td>0.125</td>\n",
              "      <td>0.5160</td>\n",
              "      <td>0.2155</td>\n",
              "      <td>0.1140</td>\n",
              "      <td>0.155</td>\n",
              "      <td>10</td>\n",
              "    </tr>\n",
              "    <tr>\n",
              "      <th>5</th>\n",
              "      <td>0.530</td>\n",
              "      <td>0.415</td>\n",
              "      <td>0.150</td>\n",
              "      <td>0.7775</td>\n",
              "      <td>0.2370</td>\n",
              "      <td>0.1415</td>\n",
              "      <td>0.330</td>\n",
              "      <td>20</td>\n",
              "    </tr>\n",
              "    <tr>\n",
              "      <th>6</th>\n",
              "      <td>0.545</td>\n",
              "      <td>0.425</td>\n",
              "      <td>0.125</td>\n",
              "      <td>0.7680</td>\n",
              "      <td>0.2940</td>\n",
              "      <td>0.1495</td>\n",
              "      <td>0.260</td>\n",
              "      <td>16</td>\n",
              "    </tr>\n",
              "  </tbody>\n",
              "</table>\n",
              "</div>\n",
              "      <button class=\"colab-df-convert\" onclick=\"convertToInteractive('df-459da4b9-a1f2-4e33-b9d0-0a1a2001b1ed')\"\n",
              "              title=\"Convert this dataframe to an interactive table.\"\n",
              "              style=\"display:none;\">\n",
              "        \n",
              "  <svg xmlns=\"http://www.w3.org/2000/svg\" height=\"24px\"viewBox=\"0 0 24 24\"\n",
              "       width=\"24px\">\n",
              "    <path d=\"M0 0h24v24H0V0z\" fill=\"none\"/>\n",
              "    <path d=\"M18.56 5.44l.94 2.06.94-2.06 2.06-.94-2.06-.94-.94-2.06-.94 2.06-2.06.94zm-11 1L8.5 8.5l.94-2.06 2.06-.94-2.06-.94L8.5 2.5l-.94 2.06-2.06.94zm10 10l.94 2.06.94-2.06 2.06-.94-2.06-.94-.94-2.06-.94 2.06-2.06.94z\"/><path d=\"M17.41 7.96l-1.37-1.37c-.4-.4-.92-.59-1.43-.59-.52 0-1.04.2-1.43.59L10.3 9.45l-7.72 7.72c-.78.78-.78 2.05 0 2.83L4 21.41c.39.39.9.59 1.41.59.51 0 1.02-.2 1.41-.59l7.78-7.78 2.81-2.81c.8-.78.8-2.07 0-2.86zM5.41 20L4 18.59l7.72-7.72 1.47 1.35L5.41 20z\"/>\n",
              "  </svg>\n",
              "      </button>\n",
              "      \n",
              "  <style>\n",
              "    .colab-df-container {\n",
              "      display:flex;\n",
              "      flex-wrap:wrap;\n",
              "      gap: 12px;\n",
              "    }\n",
              "\n",
              "    .colab-df-convert {\n",
              "      background-color: #E8F0FE;\n",
              "      border: none;\n",
              "      border-radius: 50%;\n",
              "      cursor: pointer;\n",
              "      display: none;\n",
              "      fill: #1967D2;\n",
              "      height: 32px;\n",
              "      padding: 0 0 0 0;\n",
              "      width: 32px;\n",
              "    }\n",
              "\n",
              "    .colab-df-convert:hover {\n",
              "      background-color: #E2EBFA;\n",
              "      box-shadow: 0px 1px 2px rgba(60, 64, 67, 0.3), 0px 1px 3px 1px rgba(60, 64, 67, 0.15);\n",
              "      fill: #174EA6;\n",
              "    }\n",
              "\n",
              "    [theme=dark] .colab-df-convert {\n",
              "      background-color: #3B4455;\n",
              "      fill: #D2E3FC;\n",
              "    }\n",
              "\n",
              "    [theme=dark] .colab-df-convert:hover {\n",
              "      background-color: #434B5C;\n",
              "      box-shadow: 0px 1px 3px 1px rgba(0, 0, 0, 0.15);\n",
              "      filter: drop-shadow(0px 1px 2px rgba(0, 0, 0, 0.3));\n",
              "      fill: #FFFFFF;\n",
              "    }\n",
              "  </style>\n",
              "\n",
              "      <script>\n",
              "        const buttonEl =\n",
              "          document.querySelector('#df-459da4b9-a1f2-4e33-b9d0-0a1a2001b1ed button.colab-df-convert');\n",
              "        buttonEl.style.display =\n",
              "          google.colab.kernel.accessAllowed ? 'block' : 'none';\n",
              "\n",
              "        async function convertToInteractive(key) {\n",
              "          const element = document.querySelector('#df-459da4b9-a1f2-4e33-b9d0-0a1a2001b1ed');\n",
              "          const dataTable =\n",
              "            await google.colab.kernel.invokeFunction('convertToInteractive',\n",
              "                                                     [key], {});\n",
              "          if (!dataTable) return;\n",
              "\n",
              "          const docLinkHtml = 'Like what you see? Visit the ' +\n",
              "            '<a target=\"_blank\" href=https://colab.research.google.com/notebooks/data_table.ipynb>data table notebook</a>'\n",
              "            + ' to learn more about interactive tables.';\n",
              "          element.innerHTML = '';\n",
              "          dataTable['output_type'] = 'display_data';\n",
              "          await google.colab.output.renderOutput(dataTable, element);\n",
              "          const docLink = document.createElement('div');\n",
              "          docLink.innerHTML = docLinkHtml;\n",
              "          element.appendChild(docLink);\n",
              "        }\n",
              "      </script>\n",
              "    </div>\n",
              "  </div>\n",
              "  "
            ],
            "text/plain": [
              "   Largo (mm)  Diámetro (mm)  ...  Peso caparazón (grs)  N° Anillos\n",
              "0       0.350          0.265  ...                 0.070           7\n",
              "1       0.530          0.420  ...                 0.210           9\n",
              "2       0.440          0.365  ...                 0.155          10\n",
              "5       0.530          0.415  ...                 0.330          20\n",
              "6       0.545          0.425  ...                 0.260          16\n",
              "\n",
              "[5 rows x 8 columns]"
            ]
          },
          "metadata": {},
          "execution_count": 366
        }
      ]
    },
    {
      "cell_type": "code",
      "source": [
        "y = df2[\"Sexo\"]\n",
        "y.head()"
      ],
      "metadata": {
        "colab": {
          "base_uri": "https://localhost:8080/"
        },
        "id": "Ljg7OLpuh4cm",
        "outputId": "0e41aceb-111d-4341-8657-3f55de87c1e5"
      },
      "execution_count": 367,
      "outputs": [
        {
          "output_type": "execute_result",
          "data": {
            "text/plain": [
              "0    1\n",
              "1    0\n",
              "2    1\n",
              "5    0\n",
              "6    0\n",
              "Name: Sexo, dtype: uint8"
            ]
          },
          "metadata": {},
          "execution_count": 367
        }
      ]
    },
    {
      "cell_type": "code",
      "source": [
        "#importamos librería de knn de clasificación\n",
        "from sklearn.neighbors import KNeighborsClassifier"
      ],
      "metadata": {
        "id": "0RPJ2Dofh-e9"
      },
      "execution_count": 368,
      "outputs": []
    },
    {
      "cell_type": "markdown",
      "source": [
        "Implementación algoritmo KNN\n",
        "\n",
        "Dividimos los datos en conjuntos de prueba y entrenamiento"
      ],
      "metadata": {
        "id": "_soCRor4rHNf"
      }
    },
    {
      "cell_type": "code",
      "source": [
        "X_ent, X_test, y_ent, y_test = train_test_split(X,y,test_size=0.20)"
      ],
      "metadata": {
        "id": "6F-g1aNziLR6"
      },
      "execution_count": 369,
      "outputs": []
    },
    {
      "cell_type": "markdown",
      "source": [
        "Ajustamos los parámetros knn"
      ],
      "metadata": {
        "id": "CuXVqs1srOPu"
      }
    },
    {
      "cell_type": "code",
      "source": [
        "knn2 = KNeighborsClassifier(n_neighbors=5)"
      ],
      "metadata": {
        "id": "PeOZ8QTzi7hB"
      },
      "execution_count": 370,
      "outputs": []
    },
    {
      "cell_type": "markdown",
      "source": [
        "Entrenamos el modelo"
      ],
      "metadata": {
        "id": "QJ1K_c20rn0y"
      }
    },
    {
      "cell_type": "code",
      "source": [
        "knn2.fit(X_ent,y_ent)"
      ],
      "metadata": {
        "colab": {
          "base_uri": "https://localhost:8080/"
        },
        "id": "VmG7-CE1jIR9",
        "outputId": "d3c2fdbc-fd33-42ae-d4de-5110a1adade9"
      },
      "execution_count": 371,
      "outputs": [
        {
          "output_type": "execute_result",
          "data": {
            "text/plain": [
              "KNeighborsClassifier()"
            ]
          },
          "metadata": {},
          "execution_count": 371
        }
      ]
    },
    {
      "cell_type": "markdown",
      "source": [
        "Puntuamos el modelo"
      ],
      "metadata": {
        "id": "G9DRWVoXrqsK"
      }
    },
    {
      "cell_type": "code",
      "source": [
        "knn2.score(X_test,y_test)"
      ],
      "metadata": {
        "colab": {
          "base_uri": "https://localhost:8080/"
        },
        "id": "iOerFozYjVF2",
        "outputId": "2cfd77cb-794c-429d-8eb2-9deb53b32cd4"
      },
      "execution_count": 372,
      "outputs": [
        {
          "output_type": "execute_result",
          "data": {
            "text/plain": [
              "0.5537918871252204"
            ]
          },
          "metadata": {},
          "execution_count": 372
        }
      ]
    },
    {
      "cell_type": "markdown",
      "source": [
        "El modelo tiene un 55% de probabilidad de acertar el número de anillos de un nuevo dato de abulón."
      ],
      "metadata": {
        "id": "noaPOMFSj5Tn"
      }
    },
    {
      "cell_type": "markdown",
      "source": [
        "## **Una vez que hayas completado las dos tareas, responde las siguientes preguntas.**\n",
        "\n",
        "- ¿Podrías haber utilizado la regresión lineal y la regresión KNN para resolver el problema de regresión?\n",
        "\n",
        "Si, los dos algoritmos pueden funcionar para predecir nuevos valores en \"y\" pero cada uno puede ser útil para distintos tipos de datos en las variables dependientes en conjunto con su tamaño de dimensión.\n",
        "\n",
        "- ¿Podrías haber utilizado la regresión lineal para el problema de clasificación?\n",
        "\n",
        "Si, pero hubiera funcionado menos que al usar un algoritmo de clasificación ya que 'KNN' funciona mejor para variables categóricas."
      ],
      "metadata": {
        "id": "PbELri4vjyDt"
      }
    }
  ]
}