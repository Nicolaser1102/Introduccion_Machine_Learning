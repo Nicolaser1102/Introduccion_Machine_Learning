{
  "nbformat": 4,
  "nbformat_minor": 0,
  "metadata": {
    "colab": {
      "name": "Formulas_métricas_de_regresión.ipynb",
      "provenance": [],
      "authorship_tag": "ABX9TyNCr7azZOx7XjWsTBFJBka0",
      "include_colab_link": true
    },
    "kernelspec": {
      "name": "python3",
      "display_name": "Python 3"
    },
    "language_info": {
      "name": "python"
    }
  },
  "cells": [
    {
      "cell_type": "markdown",
      "metadata": {
        "id": "view-in-github",
        "colab_type": "text"
      },
      "source": [
        "<a href=\"https://colab.research.google.com/github/Nicolaser1102/Introduccion_Machine_Learning/blob/main/Tareas_Week5/Formulas_m%C3%A9tricas_de_regresi%C3%B3n.ipynb\" target=\"_parent\"><img src=\"https://colab.research.google.com/assets/colab-badge.svg\" alt=\"Open In Colab\"/></a>"
      ]
    },
    {
      "cell_type": "markdown",
      "source": [
        "# CODING DOJO \n",
        "## Fecha creación:1/2/2022\n",
        "## Fecha de actualización: 2/2/2022\n",
        "## Esteban Simbaña\n",
        "\n",
        "#Formulas métricas de regresión \n",
        "\n",
        "1.   Error absoluto medio (MAE)\n",
        "2.   Error cuadrático medio (MSE)\n",
        "3.   Raíz del error cuadrático medio (MSE)\n",
        "\n"
      ],
      "metadata": {
        "id": "xQjnVXXxRjgv"
      }
    },
    {
      "cell_type": "markdown",
      "source": [
        "#Regresión lineal \n",
        "\n",
        " Nota: Se importó el código de la plataforma Coding Dojo para obtener los valores:\n",
        "\n",
        "-  Largo de los valores predichos\n",
        "-  Valores reales de la columna vector objetivo\n",
        "-  Valores predichos\n",
        "-  Valor r2"
      ],
      "metadata": {
        "id": "jU90aa1FEV0T"
      }
    },
    {
      "cell_type": "markdown",
      "source": [
        "## Código para obtener una regresión lineal sobre la columna 'price' en el dataset 'modifiedBostonHousing'\n",
        "\n",
        "Link descarga dataframe: https://s3.amazonaws.com/General_V88/boomyeah2015/codingdojo/curriculum/content/chapter/modifiedBostonHousing.csv"
      ],
      "metadata": {
        "id": "E8Q4B03mFLmE"
      }
    },
    {
      "cell_type": "code",
      "execution_count": 63,
      "metadata": {
        "colab": {
          "base_uri": "https://localhost:8080/"
        },
        "id": "Oi1s1ukKsa8H",
        "outputId": "84896941-05d2-4c72-d4c5-efd22ec8c8ac"
      },
      "outputs": [
        {
          "output_type": "stream",
          "name": "stdout",
          "text": [
            "Drive already mounted at /content/drive; to attempt to forcibly remount, call drive.mount(\"/content/drive\", force_remount=True).\n"
          ]
        }
      ],
      "source": [
        "#Se montan los datos \n",
        "from google.colab import drive\n",
        "drive.mount('/content/drive')"
      ]
    },
    {
      "cell_type": "code",
      "source": [
        "#Se importan las librerías que ocuparemos \n",
        "\n",
        "import pandas as pd\n",
        "import numpy as np\n",
        "# importar modelo de regresión lineal\n",
        "from sklearn.linear_model import LinearRegression"
      ],
      "metadata": {
        "id": "KcsdaED8zUFn"
      },
      "execution_count": 73,
      "outputs": []
    },
    {
      "cell_type": "code",
      "source": [
        "#Obtenemos el df\n",
        "df = pd.read_csv('/content/drive/MyDrive/Coding Dojo/Códigos/Track 2 /Week 1 - Track2/Deberes /Formulas_metricas_de_regresion /modifiedBostonHousing.csv')\n",
        "df.head()"
      ],
      "metadata": {
        "colab": {
          "base_uri": "https://localhost:8080/",
          "height": 206
        },
        "id": "A-VUH7H6zYlT",
        "outputId": "70b1c386-f354-4a16-c893-82d4772d83a0"
      },
      "execution_count": 74,
      "outputs": [
        {
          "output_type": "execute_result",
          "data": {
            "text/html": [
              "\n",
              "  <div id=\"df-81ad91f0-e71e-4d3f-a433-57768c25abec\">\n",
              "    <div class=\"colab-df-container\">\n",
              "      <div>\n",
              "<style scoped>\n",
              "    .dataframe tbody tr th:only-of-type {\n",
              "        vertical-align: middle;\n",
              "    }\n",
              "\n",
              "    .dataframe tbody tr th {\n",
              "        vertical-align: top;\n",
              "    }\n",
              "\n",
              "    .dataframe thead th {\n",
              "        text-align: right;\n",
              "    }\n",
              "</style>\n",
              "<table border=\"1\" class=\"dataframe\">\n",
              "  <thead>\n",
              "    <tr style=\"text-align: right;\">\n",
              "      <th></th>\n",
              "      <th>CRIM</th>\n",
              "      <th>ZN</th>\n",
              "      <th>INDUS</th>\n",
              "      <th>CHAS</th>\n",
              "      <th>NOX</th>\n",
              "      <th>RM</th>\n",
              "      <th>AGE</th>\n",
              "      <th>DIS</th>\n",
              "      <th>RAD</th>\n",
              "      <th>TAX</th>\n",
              "      <th>PTRATIO</th>\n",
              "      <th>B</th>\n",
              "      <th>LSTAT</th>\n",
              "      <th>price</th>\n",
              "    </tr>\n",
              "  </thead>\n",
              "  <tbody>\n",
              "    <tr>\n",
              "      <th>0</th>\n",
              "      <td>0.00632</td>\n",
              "      <td>18.0</td>\n",
              "      <td>2.31</td>\n",
              "      <td>0.0</td>\n",
              "      <td>0.538</td>\n",
              "      <td>6.575</td>\n",
              "      <td>65.2</td>\n",
              "      <td>4.0900</td>\n",
              "      <td>1.0</td>\n",
              "      <td>296.0</td>\n",
              "      <td>15.3</td>\n",
              "      <td>396.90</td>\n",
              "      <td>4.98</td>\n",
              "      <td>24.0</td>\n",
              "    </tr>\n",
              "    <tr>\n",
              "      <th>1</th>\n",
              "      <td>0.02731</td>\n",
              "      <td>0.0</td>\n",
              "      <td>7.07</td>\n",
              "      <td>0.0</td>\n",
              "      <td>0.469</td>\n",
              "      <td>6.421</td>\n",
              "      <td>78.9</td>\n",
              "      <td>4.9671</td>\n",
              "      <td>2.0</td>\n",
              "      <td>242.0</td>\n",
              "      <td>17.8</td>\n",
              "      <td>396.90</td>\n",
              "      <td>9.14</td>\n",
              "      <td>21.6</td>\n",
              "    </tr>\n",
              "    <tr>\n",
              "      <th>2</th>\n",
              "      <td>0.02729</td>\n",
              "      <td>0.0</td>\n",
              "      <td>7.07</td>\n",
              "      <td>0.0</td>\n",
              "      <td>0.469</td>\n",
              "      <td>7.185</td>\n",
              "      <td>61.1</td>\n",
              "      <td>4.9671</td>\n",
              "      <td>2.0</td>\n",
              "      <td>242.0</td>\n",
              "      <td>17.8</td>\n",
              "      <td>392.83</td>\n",
              "      <td>4.03</td>\n",
              "      <td>34.7</td>\n",
              "    </tr>\n",
              "    <tr>\n",
              "      <th>3</th>\n",
              "      <td>0.03237</td>\n",
              "      <td>0.0</td>\n",
              "      <td>2.18</td>\n",
              "      <td>0.0</td>\n",
              "      <td>0.458</td>\n",
              "      <td>6.998</td>\n",
              "      <td>45.8</td>\n",
              "      <td>6.0622</td>\n",
              "      <td>3.0</td>\n",
              "      <td>222.0</td>\n",
              "      <td>18.7</td>\n",
              "      <td>394.63</td>\n",
              "      <td>2.94</td>\n",
              "      <td>33.4</td>\n",
              "    </tr>\n",
              "    <tr>\n",
              "      <th>4</th>\n",
              "      <td>0.06905</td>\n",
              "      <td>0.0</td>\n",
              "      <td>2.18</td>\n",
              "      <td>0.0</td>\n",
              "      <td>0.458</td>\n",
              "      <td>7.147</td>\n",
              "      <td>54.2</td>\n",
              "      <td>6.0622</td>\n",
              "      <td>3.0</td>\n",
              "      <td>222.0</td>\n",
              "      <td>18.7</td>\n",
              "      <td>396.90</td>\n",
              "      <td>5.33</td>\n",
              "      <td>36.2</td>\n",
              "    </tr>\n",
              "  </tbody>\n",
              "</table>\n",
              "</div>\n",
              "      <button class=\"colab-df-convert\" onclick=\"convertToInteractive('df-81ad91f0-e71e-4d3f-a433-57768c25abec')\"\n",
              "              title=\"Convert this dataframe to an interactive table.\"\n",
              "              style=\"display:none;\">\n",
              "        \n",
              "  <svg xmlns=\"http://www.w3.org/2000/svg\" height=\"24px\"viewBox=\"0 0 24 24\"\n",
              "       width=\"24px\">\n",
              "    <path d=\"M0 0h24v24H0V0z\" fill=\"none\"/>\n",
              "    <path d=\"M18.56 5.44l.94 2.06.94-2.06 2.06-.94-2.06-.94-.94-2.06-.94 2.06-2.06.94zm-11 1L8.5 8.5l.94-2.06 2.06-.94-2.06-.94L8.5 2.5l-.94 2.06-2.06.94zm10 10l.94 2.06.94-2.06 2.06-.94-2.06-.94-.94-2.06-.94 2.06-2.06.94z\"/><path d=\"M17.41 7.96l-1.37-1.37c-.4-.4-.92-.59-1.43-.59-.52 0-1.04.2-1.43.59L10.3 9.45l-7.72 7.72c-.78.78-.78 2.05 0 2.83L4 21.41c.39.39.9.59 1.41.59.51 0 1.02-.2 1.41-.59l7.78-7.78 2.81-2.81c.8-.78.8-2.07 0-2.86zM5.41 20L4 18.59l7.72-7.72 1.47 1.35L5.41 20z\"/>\n",
              "  </svg>\n",
              "      </button>\n",
              "      \n",
              "  <style>\n",
              "    .colab-df-container {\n",
              "      display:flex;\n",
              "      flex-wrap:wrap;\n",
              "      gap: 12px;\n",
              "    }\n",
              "\n",
              "    .colab-df-convert {\n",
              "      background-color: #E8F0FE;\n",
              "      border: none;\n",
              "      border-radius: 50%;\n",
              "      cursor: pointer;\n",
              "      display: none;\n",
              "      fill: #1967D2;\n",
              "      height: 32px;\n",
              "      padding: 0 0 0 0;\n",
              "      width: 32px;\n",
              "    }\n",
              "\n",
              "    .colab-df-convert:hover {\n",
              "      background-color: #E2EBFA;\n",
              "      box-shadow: 0px 1px 2px rgba(60, 64, 67, 0.3), 0px 1px 3px 1px rgba(60, 64, 67, 0.15);\n",
              "      fill: #174EA6;\n",
              "    }\n",
              "\n",
              "    [theme=dark] .colab-df-convert {\n",
              "      background-color: #3B4455;\n",
              "      fill: #D2E3FC;\n",
              "    }\n",
              "\n",
              "    [theme=dark] .colab-df-convert:hover {\n",
              "      background-color: #434B5C;\n",
              "      box-shadow: 0px 1px 3px 1px rgba(0, 0, 0, 0.15);\n",
              "      filter: drop-shadow(0px 1px 2px rgba(0, 0, 0, 0.3));\n",
              "      fill: #FFFFFF;\n",
              "    }\n",
              "  </style>\n",
              "\n",
              "      <script>\n",
              "        const buttonEl =\n",
              "          document.querySelector('#df-81ad91f0-e71e-4d3f-a433-57768c25abec button.colab-df-convert');\n",
              "        buttonEl.style.display =\n",
              "          google.colab.kernel.accessAllowed ? 'block' : 'none';\n",
              "\n",
              "        async function convertToInteractive(key) {\n",
              "          const element = document.querySelector('#df-81ad91f0-e71e-4d3f-a433-57768c25abec');\n",
              "          const dataTable =\n",
              "            await google.colab.kernel.invokeFunction('convertToInteractive',\n",
              "                                                     [key], {});\n",
              "          if (!dataTable) return;\n",
              "\n",
              "          const docLinkHtml = 'Like what you see? Visit the ' +\n",
              "            '<a target=\"_blank\" href=https://colab.research.google.com/notebooks/data_table.ipynb>data table notebook</a>'\n",
              "            + ' to learn more about interactive tables.';\n",
              "          element.innerHTML = '';\n",
              "          dataTable['output_type'] = 'display_data';\n",
              "          await google.colab.output.renderOutput(dataTable, element);\n",
              "          const docLink = document.createElement('div');\n",
              "          docLink.innerHTML = docLinkHtml;\n",
              "          element.appendChild(docLink);\n",
              "        }\n",
              "      </script>\n",
              "    </div>\n",
              "  </div>\n",
              "  "
            ],
            "text/plain": [
              "      CRIM    ZN  INDUS  CHAS    NOX  ...    TAX  PTRATIO       B  LSTAT  price\n",
              "0  0.00632  18.0   2.31   0.0  0.538  ...  296.0     15.3  396.90   4.98   24.0\n",
              "1  0.02731   0.0   7.07   0.0  0.469  ...  242.0     17.8  396.90   9.14   21.6\n",
              "2  0.02729   0.0   7.07   0.0  0.469  ...  242.0     17.8  392.83   4.03   34.7\n",
              "3  0.03237   0.0   2.18   0.0  0.458  ...  222.0     18.7  394.63   2.94   33.4\n",
              "4  0.06905   0.0   2.18   0.0  0.458  ...  222.0     18.7  396.90   5.33   36.2\n",
              "\n",
              "[5 rows x 14 columns]"
            ]
          },
          "metadata": {},
          "execution_count": 74
        }
      ]
    },
    {
      "cell_type": "code",
      "source": [
        "#verificamos la dimensión del df \n",
        "df.shape #tiene un total de 506 filas y 14 columnas"
      ],
      "metadata": {
        "colab": {
          "base_uri": "https://localhost:8080/"
        },
        "id": "cA_OY-hrzhUE",
        "outputId": "33f9f218-889c-493d-a09e-5326560a73ee"
      },
      "execution_count": 75,
      "outputs": [
        {
          "output_type": "execute_result",
          "data": {
            "text/plain": [
              "(506, 14)"
            ]
          },
          "metadata": {},
          "execution_count": 75
        }
      ]
    },
    {
      "cell_type": "code",
      "source": [
        "# obteniendo las columna que vamos a utilizar para la regresión lineal\n",
        "df = df.loc[:, ['RM', 'LSTAT','PTRATIO', 'price']]\n",
        "df.head()"
      ],
      "metadata": {
        "colab": {
          "base_uri": "https://localhost:8080/",
          "height": 206
        },
        "id": "QkQLPS3Ezlk3",
        "outputId": "3ef17c4a-e316-456d-a13a-2f3858224dda"
      },
      "execution_count": 76,
      "outputs": [
        {
          "output_type": "execute_result",
          "data": {
            "text/html": [
              "\n",
              "  <div id=\"df-8145bda8-75a8-4d66-9653-8bd38983f037\">\n",
              "    <div class=\"colab-df-container\">\n",
              "      <div>\n",
              "<style scoped>\n",
              "    .dataframe tbody tr th:only-of-type {\n",
              "        vertical-align: middle;\n",
              "    }\n",
              "\n",
              "    .dataframe tbody tr th {\n",
              "        vertical-align: top;\n",
              "    }\n",
              "\n",
              "    .dataframe thead th {\n",
              "        text-align: right;\n",
              "    }\n",
              "</style>\n",
              "<table border=\"1\" class=\"dataframe\">\n",
              "  <thead>\n",
              "    <tr style=\"text-align: right;\">\n",
              "      <th></th>\n",
              "      <th>RM</th>\n",
              "      <th>LSTAT</th>\n",
              "      <th>PTRATIO</th>\n",
              "      <th>price</th>\n",
              "    </tr>\n",
              "  </thead>\n",
              "  <tbody>\n",
              "    <tr>\n",
              "      <th>0</th>\n",
              "      <td>6.575</td>\n",
              "      <td>4.98</td>\n",
              "      <td>15.3</td>\n",
              "      <td>24.0</td>\n",
              "    </tr>\n",
              "    <tr>\n",
              "      <th>1</th>\n",
              "      <td>6.421</td>\n",
              "      <td>9.14</td>\n",
              "      <td>17.8</td>\n",
              "      <td>21.6</td>\n",
              "    </tr>\n",
              "    <tr>\n",
              "      <th>2</th>\n",
              "      <td>7.185</td>\n",
              "      <td>4.03</td>\n",
              "      <td>17.8</td>\n",
              "      <td>34.7</td>\n",
              "    </tr>\n",
              "    <tr>\n",
              "      <th>3</th>\n",
              "      <td>6.998</td>\n",
              "      <td>2.94</td>\n",
              "      <td>18.7</td>\n",
              "      <td>33.4</td>\n",
              "    </tr>\n",
              "    <tr>\n",
              "      <th>4</th>\n",
              "      <td>7.147</td>\n",
              "      <td>5.33</td>\n",
              "      <td>18.7</td>\n",
              "      <td>36.2</td>\n",
              "    </tr>\n",
              "  </tbody>\n",
              "</table>\n",
              "</div>\n",
              "      <button class=\"colab-df-convert\" onclick=\"convertToInteractive('df-8145bda8-75a8-4d66-9653-8bd38983f037')\"\n",
              "              title=\"Convert this dataframe to an interactive table.\"\n",
              "              style=\"display:none;\">\n",
              "        \n",
              "  <svg xmlns=\"http://www.w3.org/2000/svg\" height=\"24px\"viewBox=\"0 0 24 24\"\n",
              "       width=\"24px\">\n",
              "    <path d=\"M0 0h24v24H0V0z\" fill=\"none\"/>\n",
              "    <path d=\"M18.56 5.44l.94 2.06.94-2.06 2.06-.94-2.06-.94-.94-2.06-.94 2.06-2.06.94zm-11 1L8.5 8.5l.94-2.06 2.06-.94-2.06-.94L8.5 2.5l-.94 2.06-2.06.94zm10 10l.94 2.06.94-2.06 2.06-.94-2.06-.94-.94-2.06-.94 2.06-2.06.94z\"/><path d=\"M17.41 7.96l-1.37-1.37c-.4-.4-.92-.59-1.43-.59-.52 0-1.04.2-1.43.59L10.3 9.45l-7.72 7.72c-.78.78-.78 2.05 0 2.83L4 21.41c.39.39.9.59 1.41.59.51 0 1.02-.2 1.41-.59l7.78-7.78 2.81-2.81c.8-.78.8-2.07 0-2.86zM5.41 20L4 18.59l7.72-7.72 1.47 1.35L5.41 20z\"/>\n",
              "  </svg>\n",
              "      </button>\n",
              "      \n",
              "  <style>\n",
              "    .colab-df-container {\n",
              "      display:flex;\n",
              "      flex-wrap:wrap;\n",
              "      gap: 12px;\n",
              "    }\n",
              "\n",
              "    .colab-df-convert {\n",
              "      background-color: #E8F0FE;\n",
              "      border: none;\n",
              "      border-radius: 50%;\n",
              "      cursor: pointer;\n",
              "      display: none;\n",
              "      fill: #1967D2;\n",
              "      height: 32px;\n",
              "      padding: 0 0 0 0;\n",
              "      width: 32px;\n",
              "    }\n",
              "\n",
              "    .colab-df-convert:hover {\n",
              "      background-color: #E2EBFA;\n",
              "      box-shadow: 0px 1px 2px rgba(60, 64, 67, 0.3), 0px 1px 3px 1px rgba(60, 64, 67, 0.15);\n",
              "      fill: #174EA6;\n",
              "    }\n",
              "\n",
              "    [theme=dark] .colab-df-convert {\n",
              "      background-color: #3B4455;\n",
              "      fill: #D2E3FC;\n",
              "    }\n",
              "\n",
              "    [theme=dark] .colab-df-convert:hover {\n",
              "      background-color: #434B5C;\n",
              "      box-shadow: 0px 1px 3px 1px rgba(0, 0, 0, 0.15);\n",
              "      filter: drop-shadow(0px 1px 2px rgba(0, 0, 0, 0.3));\n",
              "      fill: #FFFFFF;\n",
              "    }\n",
              "  </style>\n",
              "\n",
              "      <script>\n",
              "        const buttonEl =\n",
              "          document.querySelector('#df-8145bda8-75a8-4d66-9653-8bd38983f037 button.colab-df-convert');\n",
              "        buttonEl.style.display =\n",
              "          google.colab.kernel.accessAllowed ? 'block' : 'none';\n",
              "\n",
              "        async function convertToInteractive(key) {\n",
              "          const element = document.querySelector('#df-8145bda8-75a8-4d66-9653-8bd38983f037');\n",
              "          const dataTable =\n",
              "            await google.colab.kernel.invokeFunction('convertToInteractive',\n",
              "                                                     [key], {});\n",
              "          if (!dataTable) return;\n",
              "\n",
              "          const docLinkHtml = 'Like what you see? Visit the ' +\n",
              "            '<a target=\"_blank\" href=https://colab.research.google.com/notebooks/data_table.ipynb>data table notebook</a>'\n",
              "            + ' to learn more about interactive tables.';\n",
              "          element.innerHTML = '';\n",
              "          dataTable['output_type'] = 'display_data';\n",
              "          await google.colab.output.renderOutput(dataTable, element);\n",
              "          const docLink = document.createElement('div');\n",
              "          docLink.innerHTML = docLinkHtml;\n",
              "          element.appendChild(docLink);\n",
              "        }\n",
              "      </script>\n",
              "    </div>\n",
              "  </div>\n",
              "  "
            ],
            "text/plain": [
              "      RM  LSTAT  PTRATIO  price\n",
              "0  6.575   4.98     15.3   24.0\n",
              "1  6.421   9.14     17.8   21.6\n",
              "2  7.185   4.03     17.8   34.7\n",
              "3  6.998   2.94     18.7   33.4\n",
              "4  7.147   5.33     18.7   36.2"
            ]
          },
          "metadata": {},
          "execution_count": 76
        }
      ]
    },
    {
      "cell_type": "markdown",
      "source": [
        "Analisis exploratorio de datos \n"
      ],
      "metadata": {
        "id": "5EWX-nVgzriN"
      }
    },
    {
      "cell_type": "code",
      "source": [
        "# Verificamos valores faltantes\n",
        "df.isnull().sum()"
      ],
      "metadata": {
        "colab": {
          "base_uri": "https://localhost:8080/"
        },
        "id": "R3LDUZ5szn6y",
        "outputId": "01c26071-6c8a-407f-e189-a12472d0011d"
      },
      "execution_count": 77,
      "outputs": [
        {
          "output_type": "execute_result",
          "data": {
            "text/plain": [
              "RM         0\n",
              "LSTAT      0\n",
              "PTRATIO    0\n",
              "price      1\n",
              "dtype: int64"
            ]
          },
          "metadata": {},
          "execution_count": 77
        }
      ]
    },
    {
      "cell_type": "code",
      "source": [
        "# Eliminar filas enteras del marco de datos si contienen nans o 'any'\n",
        "df = df.dropna(how = 'any')"
      ],
      "metadata": {
        "id": "I9FT1qQ_zthV"
      },
      "execution_count": 78,
      "outputs": []
    },
    {
      "cell_type": "code",
      "source": [
        "# No hay más valores perdidos\n",
        "df.isnull().sum()"
      ],
      "metadata": {
        "colab": {
          "base_uri": "https://localhost:8080/"
        },
        "id": "d6EiRVE5zwIe",
        "outputId": "17eec495-ebaa-4162-addc-c5d576575ad6"
      },
      "execution_count": 79,
      "outputs": [
        {
          "output_type": "execute_result",
          "data": {
            "text/plain": [
              "RM         0\n",
              "LSTAT      0\n",
              "PTRATIO    0\n",
              "price      0\n",
              "dtype: int64"
            ]
          },
          "metadata": {},
          "execution_count": 79
        }
      ]
    },
    {
      "cell_type": "code",
      "source": [
        "df.shape #nueva dimensión del df "
      ],
      "metadata": {
        "colab": {
          "base_uri": "https://localhost:8080/"
        },
        "id": "OIzfhI72zyHP",
        "outputId": "05b35dc9-beb1-49c8-dc78-d331cd8490fe"
      },
      "execution_count": 80,
      "outputs": [
        {
          "output_type": "execute_result",
          "data": {
            "text/plain": [
              "(505, 4)"
            ]
          },
          "metadata": {},
          "execution_count": 80
        }
      ]
    },
    {
      "cell_type": "code",
      "source": [
        "#se eliminan precios negativos\n",
        "priceFilter = df.loc[:, 'price'] < 0 \n",
        "df = df.loc[~priceFilter, :]"
      ],
      "metadata": {
        "id": "BgxW5HK3z01s"
      },
      "execution_count": 81,
      "outputs": []
    },
    {
      "cell_type": "code",
      "source": [
        "df.head()"
      ],
      "metadata": {
        "colab": {
          "base_uri": "https://localhost:8080/",
          "height": 206
        },
        "id": "RV5fJ4I7z7kx",
        "outputId": "b6292039-6852-402e-fd25-531c8a6c0ce4"
      },
      "execution_count": 82,
      "outputs": [
        {
          "output_type": "execute_result",
          "data": {
            "text/html": [
              "\n",
              "  <div id=\"df-c4803c58-7a68-44ee-9989-1243d043b3f9\">\n",
              "    <div class=\"colab-df-container\">\n",
              "      <div>\n",
              "<style scoped>\n",
              "    .dataframe tbody tr th:only-of-type {\n",
              "        vertical-align: middle;\n",
              "    }\n",
              "\n",
              "    .dataframe tbody tr th {\n",
              "        vertical-align: top;\n",
              "    }\n",
              "\n",
              "    .dataframe thead th {\n",
              "        text-align: right;\n",
              "    }\n",
              "</style>\n",
              "<table border=\"1\" class=\"dataframe\">\n",
              "  <thead>\n",
              "    <tr style=\"text-align: right;\">\n",
              "      <th></th>\n",
              "      <th>RM</th>\n",
              "      <th>LSTAT</th>\n",
              "      <th>PTRATIO</th>\n",
              "      <th>price</th>\n",
              "    </tr>\n",
              "  </thead>\n",
              "  <tbody>\n",
              "    <tr>\n",
              "      <th>0</th>\n",
              "      <td>6.575</td>\n",
              "      <td>4.98</td>\n",
              "      <td>15.3</td>\n",
              "      <td>24.0</td>\n",
              "    </tr>\n",
              "    <tr>\n",
              "      <th>1</th>\n",
              "      <td>6.421</td>\n",
              "      <td>9.14</td>\n",
              "      <td>17.8</td>\n",
              "      <td>21.6</td>\n",
              "    </tr>\n",
              "    <tr>\n",
              "      <th>2</th>\n",
              "      <td>7.185</td>\n",
              "      <td>4.03</td>\n",
              "      <td>17.8</td>\n",
              "      <td>34.7</td>\n",
              "    </tr>\n",
              "    <tr>\n",
              "      <th>3</th>\n",
              "      <td>6.998</td>\n",
              "      <td>2.94</td>\n",
              "      <td>18.7</td>\n",
              "      <td>33.4</td>\n",
              "    </tr>\n",
              "    <tr>\n",
              "      <th>4</th>\n",
              "      <td>7.147</td>\n",
              "      <td>5.33</td>\n",
              "      <td>18.7</td>\n",
              "      <td>36.2</td>\n",
              "    </tr>\n",
              "  </tbody>\n",
              "</table>\n",
              "</div>\n",
              "      <button class=\"colab-df-convert\" onclick=\"convertToInteractive('df-c4803c58-7a68-44ee-9989-1243d043b3f9')\"\n",
              "              title=\"Convert this dataframe to an interactive table.\"\n",
              "              style=\"display:none;\">\n",
              "        \n",
              "  <svg xmlns=\"http://www.w3.org/2000/svg\" height=\"24px\"viewBox=\"0 0 24 24\"\n",
              "       width=\"24px\">\n",
              "    <path d=\"M0 0h24v24H0V0z\" fill=\"none\"/>\n",
              "    <path d=\"M18.56 5.44l.94 2.06.94-2.06 2.06-.94-2.06-.94-.94-2.06-.94 2.06-2.06.94zm-11 1L8.5 8.5l.94-2.06 2.06-.94-2.06-.94L8.5 2.5l-.94 2.06-2.06.94zm10 10l.94 2.06.94-2.06 2.06-.94-2.06-.94-.94-2.06-.94 2.06-2.06.94z\"/><path d=\"M17.41 7.96l-1.37-1.37c-.4-.4-.92-.59-1.43-.59-.52 0-1.04.2-1.43.59L10.3 9.45l-7.72 7.72c-.78.78-.78 2.05 0 2.83L4 21.41c.39.39.9.59 1.41.59.51 0 1.02-.2 1.41-.59l7.78-7.78 2.81-2.81c.8-.78.8-2.07 0-2.86zM5.41 20L4 18.59l7.72-7.72 1.47 1.35L5.41 20z\"/>\n",
              "  </svg>\n",
              "      </button>\n",
              "      \n",
              "  <style>\n",
              "    .colab-df-container {\n",
              "      display:flex;\n",
              "      flex-wrap:wrap;\n",
              "      gap: 12px;\n",
              "    }\n",
              "\n",
              "    .colab-df-convert {\n",
              "      background-color: #E8F0FE;\n",
              "      border: none;\n",
              "      border-radius: 50%;\n",
              "      cursor: pointer;\n",
              "      display: none;\n",
              "      fill: #1967D2;\n",
              "      height: 32px;\n",
              "      padding: 0 0 0 0;\n",
              "      width: 32px;\n",
              "    }\n",
              "\n",
              "    .colab-df-convert:hover {\n",
              "      background-color: #E2EBFA;\n",
              "      box-shadow: 0px 1px 2px rgba(60, 64, 67, 0.3), 0px 1px 3px 1px rgba(60, 64, 67, 0.15);\n",
              "      fill: #174EA6;\n",
              "    }\n",
              "\n",
              "    [theme=dark] .colab-df-convert {\n",
              "      background-color: #3B4455;\n",
              "      fill: #D2E3FC;\n",
              "    }\n",
              "\n",
              "    [theme=dark] .colab-df-convert:hover {\n",
              "      background-color: #434B5C;\n",
              "      box-shadow: 0px 1px 3px 1px rgba(0, 0, 0, 0.15);\n",
              "      filter: drop-shadow(0px 1px 2px rgba(0, 0, 0, 0.3));\n",
              "      fill: #FFFFFF;\n",
              "    }\n",
              "  </style>\n",
              "\n",
              "      <script>\n",
              "        const buttonEl =\n",
              "          document.querySelector('#df-c4803c58-7a68-44ee-9989-1243d043b3f9 button.colab-df-convert');\n",
              "        buttonEl.style.display =\n",
              "          google.colab.kernel.accessAllowed ? 'block' : 'none';\n",
              "\n",
              "        async function convertToInteractive(key) {\n",
              "          const element = document.querySelector('#df-c4803c58-7a68-44ee-9989-1243d043b3f9');\n",
              "          const dataTable =\n",
              "            await google.colab.kernel.invokeFunction('convertToInteractive',\n",
              "                                                     [key], {});\n",
              "          if (!dataTable) return;\n",
              "\n",
              "          const docLinkHtml = 'Like what you see? Visit the ' +\n",
              "            '<a target=\"_blank\" href=https://colab.research.google.com/notebooks/data_table.ipynb>data table notebook</a>'\n",
              "            + ' to learn more about interactive tables.';\n",
              "          element.innerHTML = '';\n",
              "          dataTable['output_type'] = 'display_data';\n",
              "          await google.colab.output.renderOutput(dataTable, element);\n",
              "          const docLink = document.createElement('div');\n",
              "          docLink.innerHTML = docLinkHtml;\n",
              "          element.appendChild(docLink);\n",
              "        }\n",
              "      </script>\n",
              "    </div>\n",
              "  </div>\n",
              "  "
            ],
            "text/plain": [
              "      RM  LSTAT  PTRATIO  price\n",
              "0  6.575   4.98     15.3   24.0\n",
              "1  6.421   9.14     17.8   21.6\n",
              "2  7.185   4.03     17.8   34.7\n",
              "3  6.998   2.94     18.7   33.4\n",
              "4  7.147   5.33     18.7   36.2"
            ]
          },
          "metadata": {},
          "execution_count": 82
        }
      ]
    },
    {
      "cell_type": "code",
      "source": [
        "# matriz de características (debe ser una matriz NumPy)\n",
        "# se convierten los valores de las columnas en formato numpy\n",
        "X = df.loc[:, ['RM', 'LSTAT', 'PTRATIO']].values"
      ],
      "metadata": {
        "id": "iQpCI_Wjz6tu"
      },
      "execution_count": 83,
      "outputs": []
    },
    {
      "cell_type": "code",
      "source": [
        "y = df.loc[:, 'price'].values #se convierte los valores del vector objetivo en formato numpy"
      ],
      "metadata": {
        "id": "j1tG_mrJ0AmK"
      },
      "execution_count": 84,
      "outputs": []
    },
    {
      "cell_type": "markdown",
      "source": [
        "Regresion linear"
      ],
      "metadata": {
        "id": "n4wm9JIL0G-L"
      }
    },
    {
      "cell_type": "code",
      "source": [
        "reg = LinearRegression(fit_intercept=True) #se realiza una instancia de la clase "
      ],
      "metadata": {
        "id": "r35Uw6ft0DMh"
      },
      "execution_count": 85,
      "outputs": []
    },
    {
      "cell_type": "code",
      "source": [
        "reg.fit(X,y) # se entrena al modelo"
      ],
      "metadata": {
        "colab": {
          "base_uri": "https://localhost:8080/"
        },
        "id": "4ZYi1mpX0ImM",
        "outputId": "dab42dfc-f818-4381-cf3c-6f9574dd0609"
      },
      "execution_count": 86,
      "outputs": [
        {
          "output_type": "execute_result",
          "data": {
            "text/plain": [
              "LinearRegression()"
            ]
          },
          "metadata": {},
          "execution_count": 86
        }
      ]
    },
    {
      "cell_type": "code",
      "source": [
        "reg.predict(X[0].reshape(-1,3)) #obtenermos el valor predictivo de la fila [0] ademas de acomodar \n",
        "                                #la matriz a 3 columnas y # de filas dadas por python "
      ],
      "metadata": {
        "colab": {
          "base_uri": "https://localhost:8080/"
        },
        "id": "x3n-_8qi0MLd",
        "outputId": "9a2318d2-2f1c-41a1-ad6a-2d120eb34e46"
      },
      "execution_count": 87,
      "outputs": [
        {
          "output_type": "execute_result",
          "data": {
            "text/plain": [
              "array([30.93692265])"
            ]
          },
          "metadata": {},
          "execution_count": 87
        }
      ]
    },
    {
      "cell_type": "code",
      "source": [
        "reg.predict(X[0:10]) #se verfica los 11 primeros valores predichos"
      ],
      "metadata": {
        "colab": {
          "base_uri": "https://localhost:8080/"
        },
        "id": "8xmtQDX80OPJ",
        "outputId": "07f321a0-9b2c-4dfc-e89c-cab90ec517d1"
      },
      "execution_count": 89,
      "outputs": [
        {
          "output_type": "execute_result",
          "data": {
            "text/plain": [
              "array([30.93692265, 25.54732909, 32.87840913, 31.22126902, 31.14158522,\n",
              "       26.45245446, 23.99307176, 22.0562208 , 13.67300117, 21.85868698])"
            ]
          },
          "metadata": {},
          "execution_count": 89
        }
      ]
    },
    {
      "cell_type": "markdown",
      "source": [
        "## R2\n",
        "\n",
        "![r2 formula.png](data:image/png;base64,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)"
      ],
      "metadata": {
        "id": "FS5AgY83If98"
      }
    },
    {
      "cell_type": "code",
      "source": [
        "#Se mide el desempeño del modelo, en este caso 'reg.score' nos da el valor de R2\n",
        "# R2 = Suma de los errores al cuadrado\n",
        "\n",
        "score = reg.score(X, y)\n",
        "print(score)"
      ],
      "metadata": {
        "colab": {
          "base_uri": "https://localhost:8080/"
        },
        "id": "kYpiHI0C0QwV",
        "outputId": "04c5dfed-c1a3-4cdd-a925-8697751a31b6"
      },
      "execution_count": 90,
      "outputs": [
        {
          "output_type": "stream",
          "name": "stdout",
          "text": [
            "0.7848414273030438\n"
          ]
        }
      ]
    },
    {
      "cell_type": "code",
      "source": [
        "#redondeamos el valor\n",
        "round(score,2)"
      ],
      "metadata": {
        "colab": {
          "base_uri": "https://localhost:8080/"
        },
        "id": "GFLErjMRQ7Op",
        "outputId": "0013c6f4-cf91-49c8-8bc9-fde20f595a52"
      },
      "execution_count": 111,
      "outputs": [
        {
          "output_type": "execute_result",
          "data": {
            "text/plain": [
              "0.78"
            ]
          },
          "metadata": {},
          "execution_count": 111
        }
      ]
    },
    {
      "cell_type": "markdown",
      "source": [
        "El R2 score interpretamos como: \n",
        "El 78% de la variación del precio de las casas puede ser explicado por \"RM\",\"LSTAT\" y \"PTRATIO\""
      ],
      "metadata": {
        "id": "iSEjUOBdJJYj"
      }
    },
    {
      "cell_type": "markdown",
      "source": [
        "#Métricas de regresión\n",
        "\n",
        "##Tarea"
      ],
      "metadata": {
        "id": "USw1bs5KJvQk"
      }
    },
    {
      "cell_type": "markdown",
      "source": [
        "- Calcular el el error absoluto medio (MAE), error cuadrático medio (MSE), y la raíz del error cuadrático medio (RMSE) para el conjunto de datos y modelo de la sección de regresión lineal."
      ],
      "metadata": {
        "id": "2RZJMeWyJyvU"
      }
    },
    {
      "cell_type": "markdown",
      "source": [
        "\n",
        "  # Error absoluto medio (MAE): media del valor absoluto de los errores.\n",
        "  ![del_valor_absoluto.png](data:image/png;base64,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)"
      ],
      "metadata": {
        "id": "i82vq-ZIJ8W5"
      }
    },
    {
      "cell_type": "markdown",
      "source": [
        "- Se obtiene el valor de 'n' que es el rango donde se hará la sumatoria de los valores"
      ],
      "metadata": {
        "id": "gWmEjXv5KQpM"
      }
    },
    {
      "cell_type": "code",
      "source": [
        "#de cuantos valores se hicieron predicciones (n) \n",
        "n = len(reg.predict(X[0:]))\n",
        "n = float (n)\n",
        "n"
      ],
      "metadata": {
        "colab": {
          "base_uri": "https://localhost:8080/"
        },
        "id": "4Lu2l_vF0SsW",
        "outputId": "65c41e50-989d-4127-96dd-3817233e457f"
      },
      "execution_count": 101,
      "outputs": [
        {
          "output_type": "execute_result",
          "data": {
            "text/plain": [
              "404.0"
            ]
          },
          "metadata": {},
          "execution_count": 101
        }
      ]
    },
    {
      "cell_type": "markdown",
      "source": [
        "- Se obtiene los valores 'y' predichos por el modelo"
      ],
      "metadata": {
        "id": "YfEV9hZDKhUr"
      }
    },
    {
      "cell_type": "code",
      "source": [
        "#predecimos todos los valores de y según las características previamente entrenadas\n",
        "array_predicted = reg.predict(X[0:])  # yi prima "
      ],
      "metadata": {
        "id": "grwV5Tn_32TZ"
      },
      "execution_count": 95,
      "outputs": []
    },
    {
      "cell_type": "code",
      "source": [
        "#estos serán los valores reales en y = y[0:]\n",
        "y[0:10] #yi"
      ],
      "metadata": {
        "id": "nr7iTq5K5y18",
        "colab": {
          "base_uri": "https://localhost:8080/"
        },
        "outputId": "5370142b-2113-494f-bfdf-404186112169"
      },
      "execution_count": 96,
      "outputs": [
        {
          "output_type": "execute_result",
          "data": {
            "text/plain": [
              "array([24. , 21.6, 34.7, 33.4, 36.2, 28.7, 22.9, 27.1, 16.5, 18.9])"
            ]
          },
          "metadata": {},
          "execution_count": 96
        }
      ]
    },
    {
      "cell_type": "markdown",
      "source": [
        "- Sumatoria de los valores según la condición de: \n",
        "    - (yi (valor real) - yi prima (valor predicho)\n",
        "     \n",
        "    ![del_valor_absoluto condicion.png](data:image/png;base64,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)"
      ],
      "metadata": {
        "id": "IpC7XSQ_LQY_"
      }
    },
    {
      "cell_type": "code",
      "source": [
        "#sumatoria, del valor absoluto de la suma entre el valor real y el valor predicho \n",
        "numeros_sumados = 0 #variable que sumará cada una de las comparaciones \n",
        "\n",
        "n = int (n) # se convierte en 'int' al largo de la lista para que pueda ser iterada \n",
        "\n",
        "for i in range (0,n,1):\n",
        "  numero_suma = abs(y [i]- array_predicted[i]) #se le aplica también el valor absoluto\n",
        "  numeros_sumados = numeros_sumados+ numero_suma \n",
        "\n",
        "print (numeros_sumados)\n"
      ],
      "metadata": {
        "colab": {
          "base_uri": "https://localhost:8080/"
        },
        "id": "tv97Kpzd8-Zu",
        "outputId": "70fd666a-f7fe-4f9e-e3fe-caac7f921071"
      },
      "execution_count": 99,
      "outputs": [
        {
          "output_type": "stream",
          "name": "stdout",
          "text": [
            "1305.467776194265\n"
          ]
        }
      ]
    },
    {
      "cell_type": "code",
      "source": [
        "# finalmente acabamos con la fórmula = 1/n por la sumatoria del valor absoluto de los errores\n",
        "#error absoluto medio = 'MAE'\n",
        "MAE = 1/n*(numeros_sumados)\n",
        "MAE"
      ],
      "metadata": {
        "colab": {
          "base_uri": "https://localhost:8080/"
        },
        "id": "bcCRZ8Q99-g0",
        "outputId": "c579c9df-8fe0-40f1-9f97-375e59774872"
      },
      "execution_count": 100,
      "outputs": [
        {
          "output_type": "execute_result",
          "data": {
            "text/plain": [
              "3.231355881668973"
            ]
          },
          "metadata": {},
          "execution_count": 100
        }
      ]
    },
    {
      "cell_type": "code",
      "source": [
        "#redondeamos el resultado \n",
        "round(MAE,2)"
      ],
      "metadata": {
        "colab": {
          "base_uri": "https://localhost:8080/"
        },
        "id": "oWaPmSFCQzcf",
        "outputId": "ed4ca3b0-c128-4a50-f514-bd9c41ef8444"
      },
      "execution_count": 108,
      "outputs": [
        {
          "output_type": "execute_result",
          "data": {
            "text/plain": [
              "3.23"
            ]
          },
          "metadata": {},
          "execution_count": 108
        }
      ]
    },
    {
      "cell_type": "markdown",
      "source": [
        "# Error cuadrático medio (MSE): Media de los errores cuadráticos\n",
        "![error cuadratico medi.png](data:image/png;base64,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)"
      ],
      "metadata": {
        "id": "fuYVZ5zu_fXf"
      }
    },
    {
      "cell_type": "markdown",
      "source": [
        "- **n es la misma (404)**"
      ],
      "metadata": {
        "id": "9MOZEneMO-x_"
      }
    },
    {
      "cell_type": "markdown",
      "source": [
        "- Sumatoria de los valores según la condición de: \n",
        "    - (yi (valor real) - yi prima (valor predicho) al cuadrado\n",
        "\n",
        "    ![error cuadratico medi condicion.png](data:image/png;base64,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)"
      ],
      "metadata": {
        "id": "sbUCNdXsPipe"
      }
    },
    {
      "cell_type": "code",
      "source": [
        "#modificamos nuestra condición de sumatoria en: \"(y real-y predicha) al cuadrado\"\n",
        "\n",
        "n_mse = int (n) # convertimos en 'int' a n para que se pueda iterar\n",
        "numeros_sumados_mse = 0\n",
        "for i in range (0,n_mse,1):\n",
        "  numero_suma_mse = pow((y [i]- array_predicted[i]),2) #(y real-y predicha) al cuadrado\n",
        "  numeros_sumados_mse = numeros_sumados_mse+ numero_suma_mse\n",
        "\n",
        "print (numeros_sumados_mse)"
      ],
      "metadata": {
        "colab": {
          "base_uri": "https://localhost:8080/"
        },
        "id": "BGpWLobl-sOo",
        "outputId": "849fa315-acf8-4e9d-a68c-628fe6972894"
      },
      "execution_count": 103,
      "outputs": [
        {
          "output_type": "stream",
          "name": "stdout",
          "text": [
            "7237.8568592052425\n"
          ]
        }
      ]
    },
    {
      "cell_type": "code",
      "source": [
        "# finalmente acabamos con la fórmula = 1/n por la sumatoria los errores al cuadrado\n",
        "#error cuadrático medio = 'MSE'\n",
        "n_mse = float (n)\n",
        "MSE = 1/n_mse*(numeros_sumados_mse)\n",
        "MSE "
      ],
      "metadata": {
        "colab": {
          "base_uri": "https://localhost:8080/"
        },
        "id": "-ii9VLVTAAZ0",
        "outputId": "3b22e4cd-1bd9-46e1-de27-c737f67bc654"
      },
      "execution_count": 104,
      "outputs": [
        {
          "output_type": "execute_result",
          "data": {
            "text/plain": [
              "17.915487275260503"
            ]
          },
          "metadata": {},
          "execution_count": 104
        }
      ]
    },
    {
      "cell_type": "code",
      "source": [
        "#Redondeamos\n",
        "round(MSE,2)"
      ],
      "metadata": {
        "colab": {
          "base_uri": "https://localhost:8080/"
        },
        "id": "VDMZkxnsQsxO",
        "outputId": "e8a060eb-06ef-42f2-a59a-5278658488a9"
      },
      "execution_count": 106,
      "outputs": [
        {
          "output_type": "execute_result",
          "data": {
            "text/plain": [
              "17.92"
            ]
          },
          "metadata": {},
          "execution_count": 106
        }
      ]
    },
    {
      "cell_type": "markdown",
      "source": [
        "# Raíz del error cuadrático medio (MSE): Raíz cuadrática de la media de los errores cuadráticos.\n",
        "![raiz del error cuadratico medi.png](data:image/png;base64,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)"
      ],
      "metadata": {
        "id": "5c1JxbiWCS_z"
      }
    },
    {
      "cell_type": "markdown",
      "source": [
        "- n es la misma (404)"
      ],
      "metadata": {
        "id": "yqzhnALiQHGj"
      }
    },
    {
      "cell_type": "markdown",
      "source": [
        "- - Sumatoria de los valores según la condición de: \n",
        "    - (yi (valor real) - yi prima (valor predicho) al cuadrado\n",
        "\n",
        "![raiz del error cuadratico medi condicion.png](data:image/png;base64,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)"
      ],
      "metadata": {
        "id": "Ef1yr-vVQPRP"
      }
    },
    {
      "cell_type": "code",
      "source": [
        "#usamos el mismo código para obtener la sumatoria de \"(y real - y predicha) al cuadrado\"\n",
        "n_rmse = int (n)\n",
        "numeros_sumados_rmse = 0\n",
        "for i in range (0,n,1):\n",
        "  numero_suma_rmse = pow((y [i]- array_predicted[i]),2) #(y real-y predicha) al cuadrado\n",
        "  numeros_sumados_rmse = numeros_sumados_rmse+ numero_suma_rmse\n",
        "\n",
        "print (numeros_sumados_rmse)"
      ],
      "metadata": {
        "colab": {
          "base_uri": "https://localhost:8080/"
        },
        "id": "cvFSximJCRb_",
        "outputId": "6ebce467-085d-4efb-9678-953b9e358d8b"
      },
      "execution_count": 57,
      "outputs": [
        {
          "output_type": "stream",
          "name": "stdout",
          "text": [
            "7237.8568592052425\n"
          ]
        }
      ]
    },
    {
      "cell_type": "code",
      "source": [
        "#finalmente acabamos con la fórmula \n",
        "# raíz del error cuadrático medio = 'RMSE'\n",
        "n_rmse = float (n)\n",
        "RMSE = 1/n_rmse*(numeros_sumados_rmse)\n",
        "# elevamos al 1/2 = raíz cuadrada de la variable RMSE\n",
        "\n",
        "RMSE = pow(RMSE, 1/2)\n",
        "RMSE"
      ],
      "metadata": {
        "colab": {
          "base_uri": "https://localhost:8080/"
        },
        "id": "xmvNAyA7DQhP",
        "outputId": "7540221b-668a-471d-eae5-38658212fceb"
      },
      "execution_count": 105,
      "outputs": [
        {
          "output_type": "execute_result",
          "data": {
            "text/plain": [
              "4.232669048633557"
            ]
          },
          "metadata": {},
          "execution_count": 105
        }
      ]
    },
    {
      "cell_type": "code",
      "source": [
        "#redondeamos el resultado\n",
        "round(RMSE,2)"
      ],
      "metadata": {
        "colab": {
          "base_uri": "https://localhost:8080/"
        },
        "id": "aXXLoi19Dtfx",
        "outputId": "c1676f1e-2871-4acd-9e32-3089e376394b"
      },
      "execution_count": 112,
      "outputs": [
        {
          "output_type": "execute_result",
          "data": {
            "text/plain": [
              "4.23"
            ]
          },
          "metadata": {},
          "execution_count": 112
        }
      ]
    }
  ]
}